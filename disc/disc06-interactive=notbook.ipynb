{
 "cells": [
  {
   "cell_type": "markdown",
   "metadata": {
    "slideshow": {
     "slide_type": "slide"
    }
   },
   "source": [
    "# Discussion 6 Supplemental Notebook"
   ]
  },
  {
   "cell_type": "code",
   "execution_count": 1,
   "metadata": {
    "slideshow": {
     "slide_type": "slide"
    }
   },
   "outputs": [],
   "source": [
    "import re\n",
    "import pandas as pd"
   ]
  },
  {
   "cell_type": "code",
   "execution_count": 2,
   "metadata": {
    "slideshow": {
     "slide_type": "subslide"
    }
   },
   "outputs": [],
   "source": [
    "class NotStringError(Exception):\n",
    "    pass\n",
    "\n",
    "def find_matches(text_list, regex):\n",
    "    if not isinstance(text_list, list):\n",
    "        text_list = [text_list]\n",
    "    \n",
    "    for i, text in enumerate(text_list):\n",
    "        if not isinstance(text, str):\n",
    "             raise NotStringError(f'The {i}th item is not a string.')\n",
    "    \n",
    "    matches = [re.search(regex, text) for text in text_list]\n",
    "        \n",
    "    return [None if match is None else match[0] for match in matches]\n",
    "    "
   ]
  },
  {
   "cell_type": "markdown",
   "metadata": {
    "slideshow": {
     "slide_type": "slide"
    }
   },
   "source": [
    "## Question 1"
   ]
  },
  {
   "cell_type": "markdown",
   "metadata": {
    "slideshow": {
     "slide_type": "subslide"
    }
   },
   "source": [
    "Which strings contain a match for the following regular expression, \"1+1$\"?\n",
    "\n",
    "Remember: \"+\" matches preceding literal or sub-expression *one* or more times and \"$\" matches the position at the end of a string."
   ]
  },
  {
   "cell_type": "code",
   "execution_count": 3,
   "metadata": {
    "slideshow": {
     "slide_type": "subslide"
    }
   },
   "outputs": [
    {
     "data": {
      "text/plain": [
       "[None, '11', None]"
      ]
     },
     "execution_count": 3,
     "metadata": {},
     "output_type": "execute_result"
    }
   ],
   "source": [
    "texts = ['What is 1+1?', 'Make a wish at 11:11', '111 Ways to Succeed']\n",
    "regex = r'1+1$'\n",
    "find_matches(texts, regex)"
   ]
  },
  {
   "cell_type": "markdown",
   "metadata": {
    "slideshow": {
     "slide_type": "slide"
    }
   },
   "source": [
    "## Question 2"
   ]
  },
  {
   "cell_type": "markdown",
   "metadata": {
    "slideshow": {
     "slide_type": "subslide"
    }
   },
   "source": [
    "Given the text: (Note: We have to surround our strings in backticks so the Markdown text doesn't evaluate)\n",
    "\n",
    "`\"<record> Josh Hug <hug@cs.berkeley.edu> Faculty </record>\"`\n",
    "    \n",
    "`\"<record> Manana Hakobyan <manana.hakobyan@berkeley.edu> TA </record>\"`\n",
    "    \n",
    "Which of the following matches exactly to the email addresses (including angle brackets)?"
   ]
  },
  {
   "cell_type": "code",
   "execution_count": 4,
   "metadata": {
    "slideshow": {
     "slide_type": "subslide"
    }
   },
   "outputs": [],
   "source": [
    "records = [\n",
    "    '<record> Josh Hug <hug@cs.berkeley.edu> Faculty </record>',\n",
    "    '<record> Manana Hakobyan <manana.hakobyan@berkeley.edu> TA </record>'\n",
    "]\n",
    "regex1 = r'<.*@.*>'\n",
    "regex2 = r'<[^<]*@[^>]*>'\n",
    "regex3 = r'<.*@\\w+\\..*>'"
   ]
  },
  {
   "cell_type": "code",
   "execution_count": 5,
   "metadata": {
    "slideshow": {
     "slide_type": "subslide"
    }
   },
   "outputs": [
    {
     "data": {
      "text/plain": [
       "['<record> Josh Hug <hug@cs.berkeley.edu> Faculty </record>',\n",
       " '<record> Manana Hakobyan <manana.hakobyan@berkeley.edu> TA </record>']"
      ]
     },
     "execution_count": 5,
     "metadata": {},
     "output_type": "execute_result"
    }
   ],
   "source": [
    "find_matches(records, regex1)"
   ]
  },
  {
   "cell_type": "code",
   "execution_count": 6,
   "metadata": {
    "slideshow": {
     "slide_type": "subslide"
    }
   },
   "outputs": [
    {
     "data": {
      "text/plain": [
       "['<hug@cs.berkeley.edu>', '<manana.hakobyan@berkeley.edu>']"
      ]
     },
     "execution_count": 6,
     "metadata": {},
     "output_type": "execute_result"
    }
   ],
   "source": [
    "find_matches(records, regex2)"
   ]
  },
  {
   "cell_type": "code",
   "execution_count": 7,
   "metadata": {
    "slideshow": {
     "slide_type": "subslide"
    }
   },
   "outputs": [
    {
     "data": {
      "text/plain": [
       "['<record> Josh Hug <hug@cs.berkeley.edu> Faculty </record>',\n",
       " '<record> Manana Hakobyan <manana.hakobyan@berkeley.edu> TA </record>']"
      ]
     },
     "execution_count": 7,
     "metadata": {},
     "output_type": "execute_result"
    }
   ],
   "source": [
    "find_matches(records, regex3)"
   ]
  },
  {
   "cell_type": "markdown",
   "metadata": {
    "slideshow": {
     "slide_type": "slide"
    }
   },
   "source": [
    "## Question 3"
   ]
  },
  {
   "cell_type": "markdown",
   "metadata": {
    "slideshow": {
     "slide_type": "subslide"
    }
   },
   "source": [
    "For each pattern specify the starting and ending position of the first match in the string. The index starts at zero and we are using closed intervals (both endpoints are included).\n",
    "\n",
    "|    .      | abcdefg | abcs! | ab abc | abc, 123 |\n",
    "|-----------|---------|-------|--------|----------|\n",
    "| abc*      | [0,2]   |   .   |    .   |    .     |\n",
    "| [^\\s]+    |    .    |   .   |    .   |    .     |\n",
    "| ab.* c    |    .    |   .   |    .   |    .     |\n",
    "| [a-z1,9]+ |    .    |   .   |    .   |    .     |\n",
    "\n",
    "Note: Try using the <https://regex101.com/> tool to understand more about regular expressions!"
   ]
  },
  {
   "cell_type": "code",
   "execution_count": 8,
   "metadata": {
    "slideshow": {
     "slide_type": "subslide"
    }
   },
   "outputs": [],
   "source": [
    "# Save all of our strings and regex expressions as string objects.\n",
    "string1 = 'abcdefg'\n",
    "string2 = 'abcs!'\n",
    "string3 = 'ab abc'\n",
    "string4 = 'abc, 123'\n",
    "regex5 = 'abc*'\n",
    "regex6 = '[^\\s]+'\n",
    "regex7 = 'ab.*c'\n",
    "regex8 = '[a-z1,9]+'"
   ]
  },
  {
   "cell_type": "code",
   "execution_count": 9,
   "metadata": {
    "slideshow": {
     "slide_type": "subslide"
    }
   },
   "outputs": [
    {
     "data": {
      "text/html": [
       "<div>\n",
       "<style scoped>\n",
       "    .dataframe tbody tr th:only-of-type {\n",
       "        vertical-align: middle;\n",
       "    }\n",
       "\n",
       "    .dataframe tbody tr th {\n",
       "        vertical-align: top;\n",
       "    }\n",
       "\n",
       "    .dataframe thead th {\n",
       "        text-align: right;\n",
       "    }\n",
       "</style>\n",
       "<table border=\"1\" class=\"dataframe\">\n",
       "  <thead>\n",
       "    <tr style=\"text-align: right;\">\n",
       "      <th></th>\n",
       "      <th>abcdefg</th>\n",
       "      <th>abcs!</th>\n",
       "      <th>ab abc</th>\n",
       "      <th>abc, 123</th>\n",
       "    </tr>\n",
       "  </thead>\n",
       "  <tbody>\n",
       "    <tr>\n",
       "      <th>abc*</th>\n",
       "      <td>[abc]</td>\n",
       "      <td>[abc]</td>\n",
       "      <td>[ab]</td>\n",
       "      <td>[abc]</td>\n",
       "    </tr>\n",
       "    <tr>\n",
       "      <th>[^\\s]+</th>\n",
       "      <td>[abcdefg]</td>\n",
       "      <td>[abcs!]</td>\n",
       "      <td>[ab]</td>\n",
       "      <td>[abc,]</td>\n",
       "    </tr>\n",
       "    <tr>\n",
       "      <th>ab.*c</th>\n",
       "      <td>[abc]</td>\n",
       "      <td>[abc]</td>\n",
       "      <td>[ab abc]</td>\n",
       "      <td>[abc]</td>\n",
       "    </tr>\n",
       "    <tr>\n",
       "      <th>[a-z1,9]+</th>\n",
       "      <td>[abcdefg]</td>\n",
       "      <td>[abcs]</td>\n",
       "      <td>[ab]</td>\n",
       "      <td>[abc,]</td>\n",
       "    </tr>\n",
       "  </tbody>\n",
       "</table>\n",
       "</div>"
      ],
      "text/plain": [
       "             abcdefg    abcs!    ab abc abc, 123\n",
       "abc*           [abc]    [abc]      [ab]    [abc]\n",
       "[^\\s]+     [abcdefg]  [abcs!]      [ab]   [abc,]\n",
       "ab.*c          [abc]    [abc]  [ab abc]    [abc]\n",
       "[a-z1,9]+  [abcdefg]   [abcs]      [ab]   [abc,]"
      ]
     },
     "execution_count": 9,
     "metadata": {},
     "output_type": "execute_result"
    }
   ],
   "source": [
    "q3data = [[find_matches(string1,regex5),find_matches(string2,regex5),find_matches(string3,regex5),find_matches(string4,regex5)],\n",
    "           [find_matches(string1,regex6),find_matches(string2,regex6),find_matches(string3,regex6),find_matches(string4,regex6)],\n",
    "           [find_matches(string1,regex7),find_matches(string2,regex7),find_matches(string3,regex7),find_matches(string4,regex7)],\n",
    "           [find_matches(string1,regex8),find_matches(string2,regex8),find_matches(string3,regex8),find_matches(string4,regex8)]]\n",
    "\n",
    "q3table = pd.DataFrame(q3data, columns = [string1, string2, string3, string4], index = [regex5, regex6, regex7, regex8])\n",
    "\n",
    "q3table\n",
    "\n",
    "# Need to query the original strings to get index start and end positions"
   ]
  },
  {
   "cell_type": "markdown",
   "metadata": {
    "slideshow": {
     "slide_type": "slide"
    }
   },
   "source": [
    "## Question 4"
   ]
  },
  {
   "cell_type": "raw",
   "metadata": {
    "slideshow": {
     "slide_type": "subslide"
    }
   },
   "source": [
    "Write a regular expression that matches strings (including the empty strings) that only contain lowercase letters and numbers."
   ]
  },
  {
   "cell_type": "code",
   "execution_count": 10,
   "metadata": {
    "slideshow": {
     "slide_type": "subslide"
    }
   },
   "outputs": [
    {
     "data": {
      "text/plain": [
       "[None, 'asdfa342', None, None]"
      ]
     },
     "execution_count": 10,
     "metadata": {},
     "output_type": "execute_result"
    }
   ],
   "source": [
    "regex9 = '^[a-z0-9]*$'\n",
    "string5 = ['adsf04RTS!','asdfa342','RA43','adsfa!']\n",
    "find_matches(string5,regex9)"
   ]
  },
  {
   "cell_type": "markdown",
   "metadata": {
    "slideshow": {
     "slide_type": "slide"
    }
   },
   "source": [
    "## Question 5"
   ]
  },
  {
   "cell_type": "markdown",
   "metadata": {
    "slideshow": {
     "slide_type": "subslide"
    }
   },
   "source": [
    "Write a regular expression that matches strings that contain exactly 5 vowels.\n",
    "\n",
    "Remember: \n",
    "- `^` matches the position at the beginning of a string (unless used for negation as in \"[^]\").\n",
    "- `*` matches the preceding literal or sub-expression zero or more times.\n",
    "- `[ ]` matches any one of the characters inside of the brackets.\n",
    "- `{ }` indicates the {minimum, maximum} number of matches.\n",
    "- `$` matches the position at the end of a string.\n"
   ]
  },
  {
   "cell_type": "code",
   "execution_count": 11,
   "metadata": {
    "slideshow": {
     "slide_type": "subslide"
    }
   },
   "outputs": [
    {
     "data": {
      "text/plain": [
       "[None, None, 'go uc berkeley', 'GO UC Berkeley!', 'vowels are fun', None]"
      ]
     },
     "execution_count": 11,
     "metadata": {},
     "output_type": "execute_result"
    }
   ],
   "source": [
    "regex10 = '^([^aeiouAEIOU]*[aeiouAEIOU]){5}[^aeiouAEIOU]*$'\n",
    "string6 = ['fabulous', 'berkeley', 'go uc berkeley', 'GO UC Berkeley!', 'vowels are fun', 'vowels are great']\n",
    "find_matches(string6,regex10)"
   ]
  },
  {
   "cell_type": "markdown",
   "metadata": {
    "slideshow": {
     "slide_type": "slide"
    }
   },
   "source": [
    "## Question 6"
   ]
  },
  {
   "cell_type": "markdown",
   "metadata": {
    "slideshow": {
     "slide_type": "subslide"
    }
   },
   "source": [
    "Given that `address` is a string, use `re.sub` to replace all vowels with a lowercase letter \"o\". For example \"123 Orange Street\" would be changed to \"123 orango Stroot\"."
   ]
  },
  {
   "cell_type": "code",
   "execution_count": 12,
   "metadata": {
    "slideshow": {
     "slide_type": "subslide"
    }
   },
   "outputs": [
    {
     "data": {
      "text/plain": [
       "'123 orongo Stroot'"
      ]
     },
     "execution_count": 12,
     "metadata": {},
     "output_type": "execute_result"
    }
   ],
   "source": [
    "address = \"123 Orange Street\"\n",
    "regex11 = r\"[aeiouAEIOU]\"\n",
    "re.sub(regex11, \"o\", address)"
   ]
  },
  {
   "cell_type": "markdown",
   "metadata": {
    "slideshow": {
     "slide_type": "slide"
    }
   },
   "source": [
    "## Question 7"
   ]
  },
  {
   "cell_type": "markdown",
   "metadata": {
    "slideshow": {
     "slide_type": "subslide"
    }
   },
   "source": [
    "Given that `sometext` is a string, use `re.sub` to replace all clusters of non-vowel characters with a single period. For example `a big moon, between us...` would be changed to `a.i.oo.e.ee.u.`."
   ]
  },
  {
   "cell_type": "code",
   "execution_count": 13,
   "metadata": {
    "slideshow": {
     "slide_type": "subslide"
    }
   },
   "outputs": [
    {
     "data": {
      "text/plain": [
       "'a.i.oo.e.ee.u.'"
      ]
     },
     "execution_count": 13,
     "metadata": {},
     "output_type": "execute_result"
    }
   ],
   "source": [
    "sometext = \"a big moon, between us...\"\n",
    "regex12 = r\"[^aeoiuAEIOU]+\"\n",
    "re.sub(regex12, \".\", sometext)"
   ]
  },
  {
   "cell_type": "markdown",
   "metadata": {
    "slideshow": {
     "slide_type": "slide"
    }
   },
   "source": [
    "## Question 8"
   ]
  },
  {
   "cell_type": "markdown",
   "metadata": {
    "slideshow": {
     "slide_type": "subslide"
    }
   },
   "source": [
    "Given `sometext = \"I've got 10 eggs, 20 gooses, and 30 giants.\"`, use `re.findall` to extract all the items and quantities from the string. The result should look like `['10 eggs', '20 gooses', '30 giants']`. You may assume that a space separates quantity and type, and that each item ends in s."
   ]
  },
  {
   "cell_type": "code",
   "execution_count": 14,
   "metadata": {
    "slideshow": {
     "slide_type": "subslide"
    }
   },
   "outputs": [
    {
     "data": {
      "text/plain": [
       "['10 eggs', '20 gooses', '30 giants']"
      ]
     },
     "execution_count": 14,
     "metadata": {},
     "output_type": "execute_result"
    }
   ],
   "source": [
    "sometext = \"I've got 10 eggs, 20 gooses, and 30 giants.\"\n",
    "regex13 = r\"\\d\\d\\s\\w+s\"\n",
    "re.findall(regex13, sometext)"
   ]
  },
  {
   "cell_type": "markdown",
   "metadata": {
    "slideshow": {
     "slide_type": "slide"
    }
   },
   "source": [
    "## Question 9"
   ]
  },
  {
   "cell_type": "markdown",
   "metadata": {
    "slideshow": {
     "slide_type": "subslide"
    }
   },
   "source": [
    "Given the following text in variable `log`:\n",
    "\n",
    "169.237.46.168 - - [26/Jan/2014:10:47:58 -0800]\n",
    "\n",
    "\"GET /stat141/Winter04/ HTTP/1.1\" 200 2585\n",
    "\n",
    "\"http://anson.ucdavis.edu/courses/\"\n",
    "\n",
    "Fill in the regular expression in the variable `pattern` below so that after it executes, day is 26, month is Jan, and year is 2014."
   ]
  },
  {
   "cell_type": "code",
   "execution_count": 15,
   "metadata": {
    "slideshow": {
     "slide_type": "subslide"
    }
   },
   "outputs": [],
   "source": [
    "# pattern = ...\n",
    "# matches = re.findall(pattern, log)\n",
    "# day, month, year = matches[0]"
   ]
  },
  {
   "cell_type": "code",
   "execution_count": 16,
   "metadata": {
    "slideshow": {
     "slide_type": "subslide"
    }
   },
   "outputs": [
    {
     "data": {
      "text/plain": [
       "['26', 'Jan', '2014']"
      ]
     },
     "execution_count": 16,
     "metadata": {},
     "output_type": "execute_result"
    }
   ],
   "source": [
    "log = '169.237.46.168 - - [26/Jan/2014:10:47:58 -0800] \"GET /stat141/Winter04/ HTTP/1.1\" 200 2585 \"http://anson.ucdavis.edu/courses/\"'\n",
    "pattern = r\"(\\d\\d)\\/([A-Z][a-z][a-z])\\/(\\d\\d\\d\\d)\"\n",
    "matches = re.findall(pattern, log)\n",
    "day, month, year = matches[0]\n",
    "[day, month, year]"
   ]
  }
 ],
 "metadata": {
  "celltoolbar": "Slideshow",
  "kernelspec": {
   "display_name": "Python 3",
   "language": "python",
   "name": "python3"
  },
  "language_info": {
   "codemirror_mode": {
    "name": "ipython",
    "version": 3
   },
   "file_extension": ".py",
   "mimetype": "text/x-python",
   "name": "python",
   "nbconvert_exporter": "python",
   "pygments_lexer": "ipython3",
   "version": "3.7.3"
  }
 },
 "nbformat": 4,
 "nbformat_minor": 2
}
