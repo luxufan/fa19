{
 "cells": [
  {
   "cell_type": "code",
   "execution_count": 1,
   "metadata": {
    "ExecuteTime": {
     "end_time": "2018-02-02T15:15:15.363920Z",
     "start_time": "2018-02-02T15:15:14.337886Z"
    }
   },
   "outputs": [],
   "source": [
    "import numpy as np\n",
    "import matplotlib.pyplot as plt\n",
    "import pandas as pd\n",
    "import seaborn as sns\n",
    "import zipfile\n",
    "%matplotlib inline"
   ]
  },
  {
   "cell_type": "markdown",
   "metadata": {},
   "source": [
    "## Canonicalization"
   ]
  },
  {
   "cell_type": "code",
   "execution_count": 2,
   "metadata": {},
   "outputs": [],
   "source": [
    "with open('county_and_state.csv') as f:\n",
    "    county_and_state = pd.read_csv(f)\n",
    "    \n",
    "with open('county_and_population.csv') as f:\n",
    "    county_and_pop = pd.read_csv(f)    "
   ]
  },
  {
   "cell_type": "markdown",
   "metadata": {},
   "source": [
    "Suppose we'd like to join these two tables. Unfortunately, we can't, because the strings representing the county names don't match, as seen below."
   ]
  },
  {
   "cell_type": "code",
   "execution_count": 3,
   "metadata": {},
   "outputs": [
    {
     "data": {
      "text/html": [
       "<div>\n",
       "<table border=\"1\" class=\"dataframe\">\n",
       "  <thead>\n",
       "    <tr style=\"text-align: right;\">\n",
       "      <th></th>\n",
       "      <th>County</th>\n",
       "      <th>State</th>\n",
       "    </tr>\n",
       "  </thead>\n",
       "  <tbody>\n",
       "    <tr>\n",
       "      <th>0</th>\n",
       "      <td>De Witt County</td>\n",
       "      <td>IL</td>\n",
       "    </tr>\n",
       "    <tr>\n",
       "      <th>1</th>\n",
       "      <td>Lac qui Parle County</td>\n",
       "      <td>MN</td>\n",
       "    </tr>\n",
       "    <tr>\n",
       "      <th>2</th>\n",
       "      <td>Lewis and Clark County</td>\n",
       "      <td>MT</td>\n",
       "    </tr>\n",
       "    <tr>\n",
       "      <th>3</th>\n",
       "      <td>St John the Baptist Parish</td>\n",
       "      <td>LS</td>\n",
       "    </tr>\n",
       "  </tbody>\n",
       "</table>\n",
       "</div>"
      ],
      "text/plain": [
       "                       County State\n",
       "0              De Witt County    IL\n",
       "1        Lac qui Parle County    MN\n",
       "2      Lewis and Clark County    MT\n",
       "3  St John the Baptist Parish    LS"
      ]
     },
     "execution_count": 3,
     "metadata": {},
     "output_type": "execute_result"
    }
   ],
   "source": [
    "county_and_state"
   ]
  },
  {
   "cell_type": "code",
   "execution_count": 4,
   "metadata": {},
   "outputs": [
    {
     "data": {
      "text/html": [
       "<div>\n",
       "<table border=\"1\" class=\"dataframe\">\n",
       "  <thead>\n",
       "    <tr style=\"text-align: right;\">\n",
       "      <th></th>\n",
       "      <th>County</th>\n",
       "      <th>Population</th>\n",
       "    </tr>\n",
       "  </thead>\n",
       "  <tbody>\n",
       "    <tr>\n",
       "      <th>0</th>\n",
       "      <td>DeWitt</td>\n",
       "      <td>16798</td>\n",
       "    </tr>\n",
       "    <tr>\n",
       "      <th>1</th>\n",
       "      <td>Lac Qui Parle</td>\n",
       "      <td>8067</td>\n",
       "    </tr>\n",
       "    <tr>\n",
       "      <th>2</th>\n",
       "      <td>Lewis &amp; Clark</td>\n",
       "      <td>55716</td>\n",
       "    </tr>\n",
       "    <tr>\n",
       "      <th>3</th>\n",
       "      <td>St. John the Baptist</td>\n",
       "      <td>43044</td>\n",
       "    </tr>\n",
       "  </tbody>\n",
       "</table>\n",
       "</div>"
      ],
      "text/plain": [
       "                 County  Population\n",
       "0                DeWitt       16798\n",
       "1         Lac Qui Parle        8067\n",
       "2         Lewis & Clark       55716\n",
       "3  St. John the Baptist       43044"
      ]
     },
     "execution_count": 4,
     "metadata": {},
     "output_type": "execute_result"
    }
   ],
   "source": [
    "county_and_pop"
   ]
  },
  {
   "cell_type": "markdown",
   "metadata": {},
   "source": [
    " Before we can join them, we'll do what I call **canonicalization**.\n",
    "\n",
    "Canonicalization: A process for converting data that has more than one possible representation into a \"standard\", \"normal\", or canonical form (definition via Wikipedia)."
   ]
  },
  {
   "cell_type": "code",
   "execution_count": 5,
   "metadata": {},
   "outputs": [],
   "source": [
    "def canonicalize_county(county_name):\n",
    "    return (\n",
    "        county_name\n",
    "        .lower()               # lower case\n",
    "        .replace(' ', '')      # remove spaces\n",
    "        .replace('&', 'and')   # replace &\n",
    "        .replace('.', '')      # remove dot\n",
    "        .replace('county', '') # remove county\n",
    "        .replace('parish', '') # remove parish\n",
    "    )"
   ]
  },
  {
   "cell_type": "code",
   "execution_count": 6,
   "metadata": {},
   "outputs": [],
   "source": [
    "county_and_pop['clean_county'] = county_and_pop['County'].map(canonicalize_county)\n",
    "county_and_state['clean_county'] = county_and_state['County'].map(canonicalize_county)"
   ]
  },
  {
   "cell_type": "code",
   "execution_count": 7,
   "metadata": {},
   "outputs": [
    {
     "data": {
      "text/html": [
       "<div>\n",
       "<table border=\"1\" class=\"dataframe\">\n",
       "  <thead>\n",
       "    <tr style=\"text-align: right;\">\n",
       "      <th></th>\n",
       "      <th>County_x</th>\n",
       "      <th>Population</th>\n",
       "      <th>clean_county</th>\n",
       "      <th>County_y</th>\n",
       "      <th>State</th>\n",
       "    </tr>\n",
       "  </thead>\n",
       "  <tbody>\n",
       "    <tr>\n",
       "      <th>0</th>\n",
       "      <td>DeWitt</td>\n",
       "      <td>16798</td>\n",
       "      <td>dewitt</td>\n",
       "      <td>De Witt County</td>\n",
       "      <td>IL</td>\n",
       "    </tr>\n",
       "    <tr>\n",
       "      <th>1</th>\n",
       "      <td>Lac Qui Parle</td>\n",
       "      <td>8067</td>\n",
       "      <td>lacquiparle</td>\n",
       "      <td>Lac qui Parle County</td>\n",
       "      <td>MN</td>\n",
       "    </tr>\n",
       "    <tr>\n",
       "      <th>2</th>\n",
       "      <td>Lewis &amp; Clark</td>\n",
       "      <td>55716</td>\n",
       "      <td>lewisandclark</td>\n",
       "      <td>Lewis and Clark County</td>\n",
       "      <td>MT</td>\n",
       "    </tr>\n",
       "    <tr>\n",
       "      <th>3</th>\n",
       "      <td>St. John the Baptist</td>\n",
       "      <td>43044</td>\n",
       "      <td>stjohnthebaptist</td>\n",
       "      <td>St John the Baptist Parish</td>\n",
       "      <td>LS</td>\n",
       "    </tr>\n",
       "  </tbody>\n",
       "</table>\n",
       "</div>"
      ],
      "text/plain": [
       "               County_x  Population      clean_county  \\\n",
       "0                DeWitt       16798            dewitt   \n",
       "1         Lac Qui Parle        8067       lacquiparle   \n",
       "2         Lewis & Clark       55716     lewisandclark   \n",
       "3  St. John the Baptist       43044  stjohnthebaptist   \n",
       "\n",
       "                     County_y State  \n",
       "0              De Witt County    IL  \n",
       "1        Lac qui Parle County    MN  \n",
       "2      Lewis and Clark County    MT  \n",
       "3  St John the Baptist Parish    LS  "
      ]
     },
     "execution_count": 7,
     "metadata": {},
     "output_type": "execute_result"
    }
   ],
   "source": [
    "county_and_pop.merge(county_and_state,\n",
    "                     left_on = 'clean_county', right_on = 'clean_county')"
   ]
  },
  {
   "cell_type": "markdown",
   "metadata": {},
   "source": [
    "## Processing Data from a Text Log Using Basic Python"
   ]
  },
  {
   "cell_type": "code",
   "execution_count": 8,
   "metadata": {
    "scrolled": true
   },
   "outputs": [],
   "source": [
    "with open('log.txt', 'r') as f:\n",
    "    log_lines = f.readlines()"
   ]
  },
  {
   "cell_type": "code",
   "execution_count": 9,
   "metadata": {},
   "outputs": [
    {
     "data": {
      "text/plain": [
       "['169.237.46.168 - - [26/Jan/2014:10:47:58 -0800] \"GET /stat141/Winter04/ HTTP/1.1\" 200 2585 \"http://anson.ucdavis.edu/courses/\"\\n',\n",
       " '193.205.203.3 - - [2/Feb/2005:17:23:6 -0800] \"GET /stat141/Notes/dim.html HTTP/1.0\" 404 302 \"http://eeyore.ucdavis.edu/stat141/Notes/session.html\"\\n',\n",
       " '169.237.46.240 - \"\" [3/Feb/2006:10:18:37 -0800] \"GET /stat141/homework/Solutions/hw1Sol.pdf HTTP/1.1\"\\n']"
      ]
     },
     "execution_count": 9,
     "metadata": {},
     "output_type": "execute_result"
    }
   ],
   "source": [
    "log_lines"
   ]
  },
  {
   "cell_type": "markdown",
   "metadata": {},
   "source": [
    "Suppose we want to extract the day, month, year, hour, minutes, seconds, and timezone. Looking at the data, we see that these items are not in a fixed position relative to the beginning of the string. That is, slicing by some fixed offset isn't going to work."
   ]
  },
  {
   "cell_type": "code",
   "execution_count": 10,
   "metadata": {},
   "outputs": [
    {
     "data": {
      "text/plain": [
       "'26/Jan/2014'"
      ]
     },
     "execution_count": 10,
     "metadata": {},
     "output_type": "execute_result"
    }
   ],
   "source": [
    "log_lines[0][20:31]"
   ]
  },
  {
   "cell_type": "code",
   "execution_count": 11,
   "metadata": {},
   "outputs": [
    {
     "data": {
      "text/plain": [
       "'/Feb/2005:1'"
      ]
     },
     "execution_count": 11,
     "metadata": {},
     "output_type": "execute_result"
    }
   ],
   "source": [
    "log_lines[1][20:31]"
   ]
  },
  {
   "cell_type": "markdown",
   "metadata": {},
   "source": [
    "Instead, we'll need to use some more sophisticated thinking. Let's focus on only the first line of the file."
   ]
  },
  {
   "cell_type": "code",
   "execution_count": 12,
   "metadata": {
    "scrolled": true
   },
   "outputs": [
    {
     "data": {
      "text/plain": [
       "'169.237.46.168 - - [26/Jan/2014:10:47:58 -0800] \"GET /stat141/Winter04/ HTTP/1.1\" 200 2585 \"http://anson.ucdavis.edu/courses/\"\\n'"
      ]
     },
     "execution_count": 12,
     "metadata": {},
     "output_type": "execute_result"
    }
   ],
   "source": [
    "first = log_lines[0]\n",
    "first"
   ]
  },
  {
   "cell_type": "code",
   "execution_count": 13,
   "metadata": {},
   "outputs": [
    {
     "data": {
      "text/plain": [
       "('26', 'Jan', '2014', '10', '47', '58', '-0800')"
      ]
     },
     "execution_count": 13,
     "metadata": {},
     "output_type": "execute_result"
    }
   ],
   "source": [
    "pertinent = first.split(\"[\")[1].split(']')[0]\n",
    "day, month, rest = pertinent.split('/')\n",
    "year, hour, minute, rest = rest.split(':')\n",
    "seconds, time_zone = rest.split(' ')\n",
    "day, month, year, hour, minute, seconds, time_zone"
   ]
  },
  {
   "cell_type": "markdown",
   "metadata": {},
   "source": [
    "A much more sophisticated but common approach is to extract the information we need using a regular expression. See [today's lecture slides](https://docs.google.com/presentation/d/1omFKPsCaPf58VLo33U9ipRq4vt1Kj_3y9yHDUl8qYhk/edit#slide=id.g41d831233f_1_119) for more on regular expressions."
   ]
  },
  {
   "cell_type": "code",
   "execution_count": 14,
   "metadata": {
    "scrolled": true
   },
   "outputs": [
    {
     "data": {
      "text/plain": [
       "('2014', 'Jan', '26', '10', '47', '58', '-0800')"
      ]
     },
     "execution_count": 14,
     "metadata": {},
     "output_type": "execute_result"
    }
   ],
   "source": [
    "import re\n",
    "pattern = r'\\[(\\d+)/(\\w+)/(\\d+):(\\d+):(\\d+):(\\d+) (.+)\\]'\n",
    "day, month, year, hour, minute, second, time_zone = re.search(pattern, first).groups()\n",
    "year, month, day, hour, minute, second, time_zone"
   ]
  },
  {
   "cell_type": "markdown",
   "metadata": {},
   "source": [
    "Or alternately using the `findall` method:"
   ]
  },
  {
   "cell_type": "code",
   "execution_count": 15,
   "metadata": {},
   "outputs": [
    {
     "data": {
      "text/plain": [
       "('2014', 'Jan', '26', '10', '47', '58', '-0800')"
      ]
     },
     "execution_count": 15,
     "metadata": {},
     "output_type": "execute_result"
    }
   ],
   "source": [
    "import re\n",
    "pattern = r'\\[(\\d+)/(\\w+)/(\\d+):(\\d+):(\\d+):(\\d+) (.+)\\]'\n",
    "day, month, year, hour, minute, second, time_zone = re.findall(pattern, first)[0]\n",
    "year, month, day, hour, minute, second, time_zone"
   ]
  },
  {
   "cell_type": "markdown",
   "metadata": {},
   "source": [
    "Note: We can return the results as a Series:"
   ]
  },
  {
   "cell_type": "code",
   "execution_count": 16,
   "metadata": {},
   "outputs": [
    {
     "data": {
      "text/plain": [
       "Day             26\n",
       "Month          Jan\n",
       "Year          2014\n",
       "Hour            10\n",
       "Minute          47\n",
       "Second          58\n",
       "Time Zone    -0800\n",
       "dtype: object"
      ]
     },
     "execution_count": 16,
     "metadata": {},
     "output_type": "execute_result"
    }
   ],
   "source": [
    "cols = [\"Day\", \"Month\", \"Year\", \"Hour\", \"Minute\", \"Second\", \"Time Zone\"]\n",
    "def log_entry_to_series(line):\n",
    "    return pd.Series(re.search(pattern, line).groups(), index = cols)\n",
    "\n",
    "log_entry_to_series(first)"
   ]
  },
  {
   "cell_type": "markdown",
   "metadata": {},
   "source": [
    "And using this function we can create a DataFrame of all the time information."
   ]
  },
  {
   "cell_type": "code",
   "execution_count": 17,
   "metadata": {
    "scrolled": true
   },
   "outputs": [
    {
     "data": {
      "text/html": [
       "<div>\n",
       "<table border=\"1\" class=\"dataframe\">\n",
       "  <thead>\n",
       "    <tr style=\"text-align: right;\">\n",
       "      <th></th>\n",
       "      <th>Day</th>\n",
       "      <th>Month</th>\n",
       "      <th>Year</th>\n",
       "      <th>Hour</th>\n",
       "      <th>Minute</th>\n",
       "      <th>Second</th>\n",
       "      <th>Time Zone</th>\n",
       "    </tr>\n",
       "  </thead>\n",
       "  <tbody>\n",
       "    <tr>\n",
       "      <th>0</th>\n",
       "      <td>26</td>\n",
       "      <td>Jan</td>\n",
       "      <td>2014</td>\n",
       "      <td>10</td>\n",
       "      <td>47</td>\n",
       "      <td>58</td>\n",
       "      <td>-0800</td>\n",
       "    </tr>\n",
       "    <tr>\n",
       "      <th>1</th>\n",
       "      <td>2</td>\n",
       "      <td>Feb</td>\n",
       "      <td>2005</td>\n",
       "      <td>17</td>\n",
       "      <td>23</td>\n",
       "      <td>6</td>\n",
       "      <td>-0800</td>\n",
       "    </tr>\n",
       "    <tr>\n",
       "      <th>2</th>\n",
       "      <td>3</td>\n",
       "      <td>Feb</td>\n",
       "      <td>2006</td>\n",
       "      <td>10</td>\n",
       "      <td>18</td>\n",
       "      <td>37</td>\n",
       "      <td>-0800</td>\n",
       "    </tr>\n",
       "  </tbody>\n",
       "</table>\n",
       "</div>"
      ],
      "text/plain": [
       "  Day Month  Year Hour Minute Second Time Zone\n",
       "0  26   Jan  2014   10     47     58     -0800\n",
       "1   2   Feb  2005   17     23      6     -0800\n",
       "2   3   Feb  2006   10     18     37     -0800"
      ]
     },
     "execution_count": 17,
     "metadata": {},
     "output_type": "execute_result"
    }
   ],
   "source": [
    "log_info = pd.DataFrame(columns=cols)\n",
    "\n",
    "for line in log_lines:\n",
    "    log_info = log_info.append(log_entry_to_series(line), ignore_index = True)\n",
    "\n",
    "log_info"
   ]
  },
  {
   "cell_type": "markdown",
   "metadata": {},
   "source": [
    "### Regular Expression From Lecture"
   ]
  },
  {
   "cell_type": "markdown",
   "metadata": {},
   "source": [
    "Fill in the regex below so that after code executes, day is “26”, month is “Jan”, and year is “2014”. "
   ]
  },
  {
   "cell_type": "code",
   "execution_count": 18,
   "metadata": {},
   "outputs": [
    {
     "data": {
      "text/plain": [
       "'169.237.46.168 - - [26/Jan/2014:10:47:58 -0800] \"GET /stat141/Winter04/ HTTP/1.1\" 200 2585 \"http://anson.ucdavis.edu/courses/\"\\n'"
      ]
     },
     "execution_count": 18,
     "metadata": {},
     "output_type": "execute_result"
    }
   ],
   "source": [
    "log_lines[0]"
   ]
  },
  {
   "cell_type": "code",
   "execution_count": 19,
   "metadata": {
    "scrolled": true
   },
   "outputs": [],
   "source": [
    "pattern = r\"YOUR REGEX HERE\"\n",
    "matches = re.findall(pattern, log_lines[0])\n",
    "#day, month, year = matches[0]\n",
    "#day, month, year"
   ]
  },
  {
   "cell_type": "markdown",
   "metadata": {},
   "source": [
    "## Real World Example #1: Restaurant Data\n",
    "\n",
    "In this example, we will show how regexes can allow us to track quantitative data across categories defined by the appearance of various text fields.\n",
    "\n",
    "In this example we'll see how the presence of certain keywords can affect quantitative data, e.g. how do restaurant health scores vary as a function of the number of violations that mention \"vermin\"?"
   ]
  },
  {
   "cell_type": "code",
   "execution_count": 20,
   "metadata": {},
   "outputs": [
    {
     "data": {
      "text/html": [
       "<div>\n",
       "<table border=\"1\" class=\"dataframe\">\n",
       "  <thead>\n",
       "    <tr style=\"text-align: right;\">\n",
       "      <th></th>\n",
       "      <th>id</th>\n",
       "      <th>date</th>\n",
       "      <th>desc</th>\n",
       "    </tr>\n",
       "  </thead>\n",
       "  <tbody>\n",
       "    <tr>\n",
       "      <th>0</th>\n",
       "      <td>19</td>\n",
       "      <td>20171211</td>\n",
       "      <td>Inadequate food safety knowledge or lack of ce...</td>\n",
       "    </tr>\n",
       "    <tr>\n",
       "      <th>1</th>\n",
       "      <td>19</td>\n",
       "      <td>20171211</td>\n",
       "      <td>Unapproved or unmaintained equipment or utensils</td>\n",
       "    </tr>\n",
       "    <tr>\n",
       "      <th>2</th>\n",
       "      <td>19</td>\n",
       "      <td>20160513</td>\n",
       "      <td>Unapproved or unmaintained equipment or utensi...</td>\n",
       "    </tr>\n",
       "    <tr>\n",
       "      <th>3</th>\n",
       "      <td>19</td>\n",
       "      <td>20160513</td>\n",
       "      <td>Unclean or degraded floors walls or ceilings  ...</td>\n",
       "    </tr>\n",
       "    <tr>\n",
       "      <th>4</th>\n",
       "      <td>19</td>\n",
       "      <td>20160513</td>\n",
       "      <td>Food safety certificate or food handler card n...</td>\n",
       "    </tr>\n",
       "  </tbody>\n",
       "</table>\n",
       "</div>"
      ],
      "text/plain": [
       "   id      date                                               desc\n",
       "0  19  20171211  Inadequate food safety knowledge or lack of ce...\n",
       "1  19  20171211   Unapproved or unmaintained equipment or utensils\n",
       "2  19  20160513  Unapproved or unmaintained equipment or utensi...\n",
       "3  19  20160513  Unclean or degraded floors walls or ceilings  ...\n",
       "4  19  20160513  Food safety certificate or food handler card n..."
      ]
     },
     "execution_count": 20,
     "metadata": {},
     "output_type": "execute_result"
    }
   ],
   "source": [
    "vio = pd.read_csv('violations.csv', header=0, names=['id', 'date', 'desc'])\n",
    "desc = vio['desc']\n",
    "vio.head()"
   ]
  },
  {
   "cell_type": "code",
   "execution_count": 21,
   "metadata": {},
   "outputs": [
    {
     "data": {
      "text/plain": [
       "Unclean or degraded floors walls or ceilings                          999\n",
       "Unapproved or unmaintained equipment or utensils                      659\n",
       "Inadequately cleaned or sanitized food contact surfaces               493\n",
       "Improper food storage                                                 476\n",
       "Inadequate and inaccessible handwashing facilities                    467\n",
       "Moderate risk food holding temperature                                452\n",
       "Wiping cloths not clean or properly stored or inadequate sanitizer    418\n",
       "Moderate risk vermin infestation                                      374\n",
       "Unclean nonfood contact surfaces                                      369\n",
       "Food safety certificate or food handler card not available            353\n",
       "Name: desc, dtype: int64"
      ]
     },
     "execution_count": 21,
     "metadata": {},
     "output_type": "execute_result"
    }
   ],
   "source": [
    "counts = desc.value_counts()\n",
    "\n",
    "counts[:10]"
   ]
  },
  {
   "cell_type": "code",
   "execution_count": 22,
   "metadata": {
    "scrolled": true
   },
   "outputs": [
    {
     "data": {
      "text/plain": [
       "Inadequate HACCP plan record keeping                                                                16\n",
       "Moderate risk food holding temperature   [ date violation corrected: 10/11/2016 ]                   16\n",
       "Unclean or degraded floors walls or ceilings  [ date violation corrected: 11/29/2017 ]              16\n",
       "Unclean or degraded floors walls or ceilings  [ date violation corrected: 11/27/2017 ]              15\n",
       "Unclean or degraded floors walls or ceilings  [ date violation corrected: 12/7/2017 ]               15\n",
       "Unclean or degraded floors walls or ceilings  [ date violation corrected: 9/6/2017 ]                14\n",
       "Inadequately cleaned or sanitized food contact surfaces  [ date violation corrected: 9/26/2017 ]    14\n",
       "Unapproved or unmaintained equipment or utensils  [ date violation corrected: 9/19/2017 ]           14\n",
       "Unclean or degraded floors walls or ceilings  [ date violation corrected: 11/28/2017 ]              14\n",
       "Worker safety hazards                                                                               13\n",
       "Name: desc, dtype: int64"
      ]
     },
     "execution_count": 22,
     "metadata": {},
     "output_type": "execute_result"
    }
   ],
   "source": [
    "# Hmmm...\n",
    "counts[50:60]"
   ]
  },
  {
   "cell_type": "code",
   "execution_count": 23,
   "metadata": {},
   "outputs": [
    {
     "data": {
      "text/html": [
       "<div>\n",
       "<table border=\"1\" class=\"dataframe\">\n",
       "  <thead>\n",
       "    <tr style=\"text-align: right;\">\n",
       "      <th></th>\n",
       "      <th>id</th>\n",
       "      <th>date</th>\n",
       "      <th>desc</th>\n",
       "      <th>clean_desc</th>\n",
       "    </tr>\n",
       "  </thead>\n",
       "  <tbody>\n",
       "    <tr>\n",
       "      <th>0</th>\n",
       "      <td>19</td>\n",
       "      <td>20171211</td>\n",
       "      <td>Inadequate food safety knowledge or lack of ce...</td>\n",
       "      <td>inadequate food safety knowledge or lack of ce...</td>\n",
       "    </tr>\n",
       "    <tr>\n",
       "      <th>1</th>\n",
       "      <td>19</td>\n",
       "      <td>20171211</td>\n",
       "      <td>Unapproved or unmaintained equipment or utensils</td>\n",
       "      <td>unapproved or unmaintained equipment or utensils</td>\n",
       "    </tr>\n",
       "    <tr>\n",
       "      <th>2</th>\n",
       "      <td>19</td>\n",
       "      <td>20160513</td>\n",
       "      <td>Unapproved or unmaintained equipment or utensi...</td>\n",
       "      <td>unapproved or unmaintained equipment or utensils</td>\n",
       "    </tr>\n",
       "    <tr>\n",
       "      <th>3</th>\n",
       "      <td>19</td>\n",
       "      <td>20160513</td>\n",
       "      <td>Unclean or degraded floors walls or ceilings  ...</td>\n",
       "      <td>unclean or degraded floors walls or ceilings</td>\n",
       "    </tr>\n",
       "    <tr>\n",
       "      <th>4</th>\n",
       "      <td>19</td>\n",
       "      <td>20160513</td>\n",
       "      <td>Food safety certificate or food handler card n...</td>\n",
       "      <td>food safety certificate or food handler card n...</td>\n",
       "    </tr>\n",
       "  </tbody>\n",
       "</table>\n",
       "</div>"
      ],
      "text/plain": [
       "   id      date                                               desc  \\\n",
       "0  19  20171211  Inadequate food safety knowledge or lack of ce...   \n",
       "1  19  20171211   Unapproved or unmaintained equipment or utensils   \n",
       "2  19  20160513  Unapproved or unmaintained equipment or utensi...   \n",
       "3  19  20160513  Unclean or degraded floors walls or ceilings  ...   \n",
       "4  19  20160513  Food safety certificate or food handler card n...   \n",
       "\n",
       "                                          clean_desc  \n",
       "0  inadequate food safety knowledge or lack of ce...  \n",
       "1   unapproved or unmaintained equipment or utensils  \n",
       "2   unapproved or unmaintained equipment or utensils  \n",
       "3       unclean or degraded floors walls or ceilings  \n",
       "4  food safety certificate or food handler card n...  "
      ]
     },
     "execution_count": 23,
     "metadata": {},
     "output_type": "execute_result"
    }
   ],
   "source": [
    "#Use regular expressions to cut out the extra info in square braces.\n",
    "vio['clean_desc'] = (vio['desc']\n",
    "             .str.replace('\\s*\\[.*\\]$', '')\n",
    "             .str.strip()\n",
    "             .str.lower())\n",
    "vio.head()"
   ]
  },
  {
   "cell_type": "code",
   "execution_count": 46,
   "metadata": {},
   "outputs": [
    {
     "data": {
      "text/plain": [
       "unclean or degraded floors walls or ceilings               3507\n",
       "moderate risk food holding temperature                     2542\n",
       "inadequate and inaccessible handwashing facilities         2529\n",
       "unapproved or unmaintained equipment or utensils           2382\n",
       "inadequately cleaned or sanitized food contact surfaces    2301\n",
       "Name: clean_desc, dtype: int64"
      ]
     },
     "execution_count": 46,
     "metadata": {},
     "output_type": "execute_result"
    }
   ],
   "source": [
    "vio['clean_desc'].value_counts().head() "
   ]
  },
  {
   "cell_type": "code",
   "execution_count": 24,
   "metadata": {},
   "outputs": [
    {
     "data": {
      "text/html": [
       "<div>\n",
       "<table border=\"1\" class=\"dataframe\">\n",
       "  <thead>\n",
       "    <tr style=\"text-align: right;\">\n",
       "      <th></th>\n",
       "      <th>id</th>\n",
       "      <th>date</th>\n",
       "      <th>desc</th>\n",
       "      <th>clean_desc</th>\n",
       "      <th>is_clean</th>\n",
       "      <th>is_high_risk</th>\n",
       "      <th>is_vermin</th>\n",
       "      <th>is_surface</th>\n",
       "      <th>is_human</th>\n",
       "      <th>is_permit</th>\n",
       "    </tr>\n",
       "  </thead>\n",
       "  <tbody>\n",
       "    <tr>\n",
       "      <th>0</th>\n",
       "      <td>19</td>\n",
       "      <td>20171211</td>\n",
       "      <td>Inadequate food safety knowledge or lack of ce...</td>\n",
       "      <td>inadequate food safety knowledge or lack of ce...</td>\n",
       "      <td>False</td>\n",
       "      <td>False</td>\n",
       "      <td>False</td>\n",
       "      <td>False</td>\n",
       "      <td>False</td>\n",
       "      <td>True</td>\n",
       "    </tr>\n",
       "    <tr>\n",
       "      <th>1</th>\n",
       "      <td>19</td>\n",
       "      <td>20171211</td>\n",
       "      <td>Unapproved or unmaintained equipment or utensils</td>\n",
       "      <td>unapproved or unmaintained equipment or utensils</td>\n",
       "      <td>False</td>\n",
       "      <td>False</td>\n",
       "      <td>False</td>\n",
       "      <td>False</td>\n",
       "      <td>False</td>\n",
       "      <td>False</td>\n",
       "    </tr>\n",
       "    <tr>\n",
       "      <th>2</th>\n",
       "      <td>19</td>\n",
       "      <td>20160513</td>\n",
       "      <td>Unapproved or unmaintained equipment or utensi...</td>\n",
       "      <td>unapproved or unmaintained equipment or utensils</td>\n",
       "      <td>False</td>\n",
       "      <td>False</td>\n",
       "      <td>False</td>\n",
       "      <td>False</td>\n",
       "      <td>False</td>\n",
       "      <td>False</td>\n",
       "    </tr>\n",
       "    <tr>\n",
       "      <th>3</th>\n",
       "      <td>19</td>\n",
       "      <td>20160513</td>\n",
       "      <td>Unclean or degraded floors walls or ceilings  ...</td>\n",
       "      <td>unclean or degraded floors walls or ceilings</td>\n",
       "      <td>True</td>\n",
       "      <td>False</td>\n",
       "      <td>False</td>\n",
       "      <td>True</td>\n",
       "      <td>False</td>\n",
       "      <td>False</td>\n",
       "    </tr>\n",
       "    <tr>\n",
       "      <th>4</th>\n",
       "      <td>19</td>\n",
       "      <td>20160513</td>\n",
       "      <td>Food safety certificate or food handler card n...</td>\n",
       "      <td>food safety certificate or food handler card n...</td>\n",
       "      <td>False</td>\n",
       "      <td>False</td>\n",
       "      <td>False</td>\n",
       "      <td>False</td>\n",
       "      <td>True</td>\n",
       "      <td>True</td>\n",
       "    </tr>\n",
       "  </tbody>\n",
       "</table>\n",
       "</div>"
      ],
      "text/plain": [
       "   id      date                                               desc  \\\n",
       "0  19  20171211  Inadequate food safety knowledge or lack of ce...   \n",
       "1  19  20171211   Unapproved or unmaintained equipment or utensils   \n",
       "2  19  20160513  Unapproved or unmaintained equipment or utensi...   \n",
       "3  19  20160513  Unclean or degraded floors walls or ceilings  ...   \n",
       "4  19  20160513  Food safety certificate or food handler card n...   \n",
       "\n",
       "                                          clean_desc is_clean is_high_risk  \\\n",
       "0  inadequate food safety knowledge or lack of ce...    False        False   \n",
       "1   unapproved or unmaintained equipment or utensils    False        False   \n",
       "2   unapproved or unmaintained equipment or utensils    False        False   \n",
       "3       unclean or degraded floors walls or ceilings     True        False   \n",
       "4  food safety certificate or food handler card n...    False        False   \n",
       "\n",
       "  is_vermin is_surface is_human is_permit  \n",
       "0     False      False    False      True  \n",
       "1     False      False    False     False  \n",
       "2     False      False    False     False  \n",
       "3     False       True    False     False  \n",
       "4     False      False     True      True  "
      ]
     },
     "execution_count": 24,
     "metadata": {},
     "output_type": "execute_result"
    }
   ],
   "source": [
    "#use regular expressions to assign new features for the presence of various keywords\n",
    "with_features = (vio\n",
    " .assign(is_clean     = vio['clean_desc'].str.contains('clean|sanit'))\n",
    " .assign(is_high_risk = vio['clean_desc'].str.contains('high risk'))\n",
    " .assign(is_vermin    = vio['clean_desc'].str.contains('vermin'))\n",
    " .assign(is_surface   = vio['clean_desc'].str.contains('wall|ceiling|floor|surface'))\n",
    " .assign(is_human     = vio['clean_desc'].str.contains('hand|glove|hair|nail'))\n",
    " .assign(is_permit    = vio['clean_desc'].str.contains('permit|certif'))\n",
    ")\n",
    "with_features.head()"
   ]
  },
  {
   "cell_type": "code",
   "execution_count": 25,
   "metadata": {},
   "outputs": [
    {
     "data": {
      "text/html": [
       "<div>\n",
       "<table border=\"1\" class=\"dataframe\">\n",
       "  <thead>\n",
       "    <tr style=\"text-align: right;\">\n",
       "      <th></th>\n",
       "      <th>id</th>\n",
       "      <th>date</th>\n",
       "      <th>is_clean</th>\n",
       "      <th>is_high_risk</th>\n",
       "      <th>is_vermin</th>\n",
       "      <th>is_surface</th>\n",
       "      <th>is_human</th>\n",
       "      <th>is_permit</th>\n",
       "    </tr>\n",
       "  </thead>\n",
       "  <tbody>\n",
       "    <tr>\n",
       "      <th>255</th>\n",
       "      <td>489</td>\n",
       "      <td>20150728</td>\n",
       "      <td>5.0</td>\n",
       "      <td>0.0</td>\n",
       "      <td>2.0</td>\n",
       "      <td>3.0</td>\n",
       "      <td>0.0</td>\n",
       "      <td>0.0</td>\n",
       "    </tr>\n",
       "    <tr>\n",
       "      <th>256</th>\n",
       "      <td>489</td>\n",
       "      <td>20150807</td>\n",
       "      <td>1.0</td>\n",
       "      <td>0.0</td>\n",
       "      <td>0.0</td>\n",
       "      <td>1.0</td>\n",
       "      <td>0.0</td>\n",
       "      <td>0.0</td>\n",
       "    </tr>\n",
       "    <tr>\n",
       "      <th>257</th>\n",
       "      <td>489</td>\n",
       "      <td>20160308</td>\n",
       "      <td>2.0</td>\n",
       "      <td>2.0</td>\n",
       "      <td>1.0</td>\n",
       "      <td>0.0</td>\n",
       "      <td>1.0</td>\n",
       "      <td>0.0</td>\n",
       "    </tr>\n",
       "    <tr>\n",
       "      <th>258</th>\n",
       "      <td>489</td>\n",
       "      <td>20160721</td>\n",
       "      <td>2.0</td>\n",
       "      <td>1.0</td>\n",
       "      <td>1.0</td>\n",
       "      <td>1.0</td>\n",
       "      <td>0.0</td>\n",
       "      <td>1.0</td>\n",
       "    </tr>\n",
       "    <tr>\n",
       "      <th>259</th>\n",
       "      <td>489</td>\n",
       "      <td>20161220</td>\n",
       "      <td>3.0</td>\n",
       "      <td>0.0</td>\n",
       "      <td>1.0</td>\n",
       "      <td>2.0</td>\n",
       "      <td>0.0</td>\n",
       "      <td>0.0</td>\n",
       "    </tr>\n",
       "  </tbody>\n",
       "</table>\n",
       "</div>"
      ],
      "text/plain": [
       "      id      date  is_clean  is_high_risk  is_vermin  is_surface  is_human  \\\n",
       "255  489  20150728       5.0           0.0        2.0         3.0       0.0   \n",
       "256  489  20150807       1.0           0.0        0.0         1.0       0.0   \n",
       "257  489  20160308       2.0           2.0        1.0         0.0       1.0   \n",
       "258  489  20160721       2.0           1.0        1.0         1.0       0.0   \n",
       "259  489  20161220       3.0           0.0        1.0         2.0       0.0   \n",
       "\n",
       "     is_permit  \n",
       "255        0.0  \n",
       "256        0.0  \n",
       "257        0.0  \n",
       "258        1.0  \n",
       "259        0.0  "
      ]
     },
     "execution_count": 25,
     "metadata": {},
     "output_type": "execute_result"
    }
   ],
   "source": [
    "count_features = (with_features\n",
    " .groupby(['id', 'date'])\n",
    " .sum()\n",
    " .reset_index()\n",
    ")\n",
    "count_features.iloc[255:260, :]"
   ]
  },
  {
   "cell_type": "code",
   "execution_count": 26,
   "metadata": {},
   "outputs": [
    {
     "data": {
      "text/html": [
       "<div>\n",
       "<table border=\"1\" class=\"dataframe\">\n",
       "  <thead>\n",
       "    <tr style=\"text-align: right;\">\n",
       "      <th></th>\n",
       "      <th>id</th>\n",
       "      <th>date</th>\n",
       "      <th>is_clean</th>\n",
       "      <th>is_high_risk</th>\n",
       "      <th>is_vermin</th>\n",
       "      <th>is_surface</th>\n",
       "      <th>is_human</th>\n",
       "      <th>is_permit</th>\n",
       "    </tr>\n",
       "  </thead>\n",
       "  <tbody>\n",
       "    <tr>\n",
       "      <th>255</th>\n",
       "      <td>489</td>\n",
       "      <td>20150728</td>\n",
       "      <td>5.0</td>\n",
       "      <td>0.0</td>\n",
       "      <td>2.0</td>\n",
       "      <td>3.0</td>\n",
       "      <td>0.0</td>\n",
       "      <td>0.0</td>\n",
       "    </tr>\n",
       "    <tr>\n",
       "      <th>291</th>\n",
       "      <td>527</td>\n",
       "      <td>20170821</td>\n",
       "      <td>1.0</td>\n",
       "      <td>1.0</td>\n",
       "      <td>2.0</td>\n",
       "      <td>1.0</td>\n",
       "      <td>1.0</td>\n",
       "      <td>1.0</td>\n",
       "    </tr>\n",
       "    <tr>\n",
       "      <th>1508</th>\n",
       "      <td>2622</td>\n",
       "      <td>20160526</td>\n",
       "      <td>4.0</td>\n",
       "      <td>2.0</td>\n",
       "      <td>2.0</td>\n",
       "      <td>3.0</td>\n",
       "      <td>0.0</td>\n",
       "      <td>0.0</td>\n",
       "    </tr>\n",
       "    <tr>\n",
       "      <th>1573</th>\n",
       "      <td>2721</td>\n",
       "      <td>20150422</td>\n",
       "      <td>2.0</td>\n",
       "      <td>1.0</td>\n",
       "      <td>2.0</td>\n",
       "      <td>1.0</td>\n",
       "      <td>0.0</td>\n",
       "      <td>0.0</td>\n",
       "    </tr>\n",
       "    <tr>\n",
       "      <th>1746</th>\n",
       "      <td>2945</td>\n",
       "      <td>20150921</td>\n",
       "      <td>2.0</td>\n",
       "      <td>1.0</td>\n",
       "      <td>2.0</td>\n",
       "      <td>2.0</td>\n",
       "      <td>2.0</td>\n",
       "      <td>1.0</td>\n",
       "    </tr>\n",
       "    <tr>\n",
       "      <th>2277</th>\n",
       "      <td>3776</td>\n",
       "      <td>20151223</td>\n",
       "      <td>2.0</td>\n",
       "      <td>0.0</td>\n",
       "      <td>2.0</td>\n",
       "      <td>1.0</td>\n",
       "      <td>0.0</td>\n",
       "      <td>0.0</td>\n",
       "    </tr>\n",
       "    <tr>\n",
       "      <th>3784</th>\n",
       "      <td>6729</td>\n",
       "      <td>20160706</td>\n",
       "      <td>6.0</td>\n",
       "      <td>0.0</td>\n",
       "      <td>2.0</td>\n",
       "      <td>4.0</td>\n",
       "      <td>2.0</td>\n",
       "      <td>0.0</td>\n",
       "    </tr>\n",
       "    <tr>\n",
       "      <th>3949</th>\n",
       "      <td>7537</td>\n",
       "      <td>20150304</td>\n",
       "      <td>1.0</td>\n",
       "      <td>0.0</td>\n",
       "      <td>2.0</td>\n",
       "      <td>1.0</td>\n",
       "      <td>1.0</td>\n",
       "      <td>0.0</td>\n",
       "    </tr>\n",
       "    <tr>\n",
       "      <th>4017</th>\n",
       "      <td>7661</td>\n",
       "      <td>20160616</td>\n",
       "      <td>2.0</td>\n",
       "      <td>0.0</td>\n",
       "      <td>2.0</td>\n",
       "      <td>2.0</td>\n",
       "      <td>1.0</td>\n",
       "      <td>0.0</td>\n",
       "    </tr>\n",
       "    <tr>\n",
       "      <th>4165</th>\n",
       "      <td>9679</td>\n",
       "      <td>20150422</td>\n",
       "      <td>2.0</td>\n",
       "      <td>0.0</td>\n",
       "      <td>2.0</td>\n",
       "      <td>2.0</td>\n",
       "      <td>0.0</td>\n",
       "      <td>0.0</td>\n",
       "    </tr>\n",
       "    <tr>\n",
       "      <th>7742</th>\n",
       "      <td>69353</td>\n",
       "      <td>20150420</td>\n",
       "      <td>3.0</td>\n",
       "      <td>1.0</td>\n",
       "      <td>2.0</td>\n",
       "      <td>2.0</td>\n",
       "      <td>1.0</td>\n",
       "      <td>0.0</td>\n",
       "    </tr>\n",
       "    <tr>\n",
       "      <th>8319</th>\n",
       "      <td>71999</td>\n",
       "      <td>20150401</td>\n",
       "      <td>1.0</td>\n",
       "      <td>1.0</td>\n",
       "      <td>2.0</td>\n",
       "      <td>0.0</td>\n",
       "      <td>0.0</td>\n",
       "      <td>0.0</td>\n",
       "    </tr>\n",
       "    <tr>\n",
       "      <th>9074</th>\n",
       "      <td>77427</td>\n",
       "      <td>20170706</td>\n",
       "      <td>0.0</td>\n",
       "      <td>0.0</td>\n",
       "      <td>2.0</td>\n",
       "      <td>0.0</td>\n",
       "      <td>0.0</td>\n",
       "      <td>0.0</td>\n",
       "    </tr>\n",
       "    <tr>\n",
       "      <th>9759</th>\n",
       "      <td>80112</td>\n",
       "      <td>20160225</td>\n",
       "      <td>2.0</td>\n",
       "      <td>0.0</td>\n",
       "      <td>2.0</td>\n",
       "      <td>0.0</td>\n",
       "      <td>0.0</td>\n",
       "      <td>2.0</td>\n",
       "    </tr>\n",
       "    <tr>\n",
       "      <th>11552</th>\n",
       "      <td>87492</td>\n",
       "      <td>20161208</td>\n",
       "      <td>6.0</td>\n",
       "      <td>2.0</td>\n",
       "      <td>2.0</td>\n",
       "      <td>4.0</td>\n",
       "      <td>2.0</td>\n",
       "      <td>0.0</td>\n",
       "    </tr>\n",
       "  </tbody>\n",
       "</table>\n",
       "</div>"
      ],
      "text/plain": [
       "          id      date  is_clean  is_high_risk  is_vermin  is_surface  \\\n",
       "255      489  20150728       5.0           0.0        2.0         3.0   \n",
       "291      527  20170821       1.0           1.0        2.0         1.0   \n",
       "1508    2622  20160526       4.0           2.0        2.0         3.0   \n",
       "1573    2721  20150422       2.0           1.0        2.0         1.0   \n",
       "1746    2945  20150921       2.0           1.0        2.0         2.0   \n",
       "2277    3776  20151223       2.0           0.0        2.0         1.0   \n",
       "3784    6729  20160706       6.0           0.0        2.0         4.0   \n",
       "3949    7537  20150304       1.0           0.0        2.0         1.0   \n",
       "4017    7661  20160616       2.0           0.0        2.0         2.0   \n",
       "4165    9679  20150422       2.0           0.0        2.0         2.0   \n",
       "7742   69353  20150420       3.0           1.0        2.0         2.0   \n",
       "8319   71999  20150401       1.0           1.0        2.0         0.0   \n",
       "9074   77427  20170706       0.0           0.0        2.0         0.0   \n",
       "9759   80112  20160225       2.0           0.0        2.0         0.0   \n",
       "11552  87492  20161208       6.0           2.0        2.0         4.0   \n",
       "\n",
       "       is_human  is_permit  \n",
       "255         0.0        0.0  \n",
       "291         1.0        1.0  \n",
       "1508        0.0        0.0  \n",
       "1573        0.0        0.0  \n",
       "1746        2.0        1.0  \n",
       "2277        0.0        0.0  \n",
       "3784        2.0        0.0  \n",
       "3949        1.0        0.0  \n",
       "4017        1.0        0.0  \n",
       "4165        0.0        0.0  \n",
       "7742        1.0        0.0  \n",
       "8319        0.0        0.0  \n",
       "9074        0.0        0.0  \n",
       "9759        0.0        2.0  \n",
       "11552       2.0        0.0  "
      ]
     },
     "execution_count": 26,
     "metadata": {},
     "output_type": "execute_result"
    }
   ],
   "source": [
    "count_features.query('is_vermin > 1')"
   ]
  },
  {
   "cell_type": "code",
   "execution_count": 47,
   "metadata": {},
   "outputs": [
    {
     "data": {
      "text/html": [
       "<div>\n",
       "<table border=\"1\" class=\"dataframe\">\n",
       "  <thead>\n",
       "    <tr style=\"text-align: right;\">\n",
       "      <th></th>\n",
       "      <th>id</th>\n",
       "      <th>date</th>\n",
       "      <th>feature</th>\n",
       "      <th>num_vios</th>\n",
       "    </tr>\n",
       "  </thead>\n",
       "  <tbody>\n",
       "    <tr>\n",
       "      <th>0</th>\n",
       "      <td>19</td>\n",
       "      <td>20160513</td>\n",
       "      <td>is_clean</td>\n",
       "      <td>1.0</td>\n",
       "    </tr>\n",
       "    <tr>\n",
       "      <th>12262</th>\n",
       "      <td>19</td>\n",
       "      <td>20160513</td>\n",
       "      <td>is_high_risk</td>\n",
       "      <td>0.0</td>\n",
       "    </tr>\n",
       "    <tr>\n",
       "      <th>24524</th>\n",
       "      <td>19</td>\n",
       "      <td>20160513</td>\n",
       "      <td>is_vermin</td>\n",
       "      <td>0.0</td>\n",
       "    </tr>\n",
       "    <tr>\n",
       "      <th>36786</th>\n",
       "      <td>19</td>\n",
       "      <td>20160513</td>\n",
       "      <td>is_surface</td>\n",
       "      <td>1.0</td>\n",
       "    </tr>\n",
       "    <tr>\n",
       "      <th>49048</th>\n",
       "      <td>19</td>\n",
       "      <td>20160513</td>\n",
       "      <td>is_human</td>\n",
       "      <td>1.0</td>\n",
       "    </tr>\n",
       "    <tr>\n",
       "      <th>61310</th>\n",
       "      <td>19</td>\n",
       "      <td>20160513</td>\n",
       "      <td>is_permit</td>\n",
       "      <td>1.0</td>\n",
       "    </tr>\n",
       "    <tr>\n",
       "      <th>1</th>\n",
       "      <td>19</td>\n",
       "      <td>20171211</td>\n",
       "      <td>is_clean</td>\n",
       "      <td>0.0</td>\n",
       "    </tr>\n",
       "    <tr>\n",
       "      <th>12263</th>\n",
       "      <td>19</td>\n",
       "      <td>20171211</td>\n",
       "      <td>is_high_risk</td>\n",
       "      <td>0.0</td>\n",
       "    </tr>\n",
       "    <tr>\n",
       "      <th>24525</th>\n",
       "      <td>19</td>\n",
       "      <td>20171211</td>\n",
       "      <td>is_vermin</td>\n",
       "      <td>0.0</td>\n",
       "    </tr>\n",
       "    <tr>\n",
       "      <th>36787</th>\n",
       "      <td>19</td>\n",
       "      <td>20171211</td>\n",
       "      <td>is_surface</td>\n",
       "      <td>0.0</td>\n",
       "    </tr>\n",
       "    <tr>\n",
       "      <th>49049</th>\n",
       "      <td>19</td>\n",
       "      <td>20171211</td>\n",
       "      <td>is_human</td>\n",
       "      <td>0.0</td>\n",
       "    </tr>\n",
       "    <tr>\n",
       "      <th>61311</th>\n",
       "      <td>19</td>\n",
       "      <td>20171211</td>\n",
       "      <td>is_permit</td>\n",
       "      <td>1.0</td>\n",
       "    </tr>\n",
       "    <tr>\n",
       "      <th>2</th>\n",
       "      <td>24</td>\n",
       "      <td>20160311</td>\n",
       "      <td>is_clean</td>\n",
       "      <td>2.0</td>\n",
       "    </tr>\n",
       "  </tbody>\n",
       "</table>\n",
       "</div>"
      ],
      "text/plain": [
       "       id      date       feature  num_vios\n",
       "0      19  20160513      is_clean       1.0\n",
       "12262  19  20160513  is_high_risk       0.0\n",
       "24524  19  20160513     is_vermin       0.0\n",
       "36786  19  20160513    is_surface       1.0\n",
       "49048  19  20160513      is_human       1.0\n",
       "61310  19  20160513     is_permit       1.0\n",
       "1      19  20171211      is_clean       0.0\n",
       "12263  19  20171211  is_high_risk       0.0\n",
       "24525  19  20171211     is_vermin       0.0\n",
       "36787  19  20171211    is_surface       0.0\n",
       "49049  19  20171211      is_human       0.0\n",
       "61311  19  20171211     is_permit       1.0\n",
       "2      24  20160311      is_clean       2.0"
      ]
     },
     "execution_count": 47,
     "metadata": {},
     "output_type": "execute_result"
    }
   ],
   "source": [
    "#use a new pandas feature called \"melt\" that we won't describe in any detail\n",
    "#the granularity of the resulting frame is a violation type in a given inspection\n",
    "broken_down_by_violation_type = pd.melt(count_features, id_vars=['id', 'date'],\n",
    "            var_name='feature', value_name='num_vios')\n",
    "broken_down_by_violation_type.sort_values([\"id\", \"date\"]).head(13)"
   ]
  },
  {
   "cell_type": "code",
   "execution_count": 28,
   "metadata": {},
   "outputs": [
    {
     "data": {
      "text/html": [
       "<div>\n",
       "<table border=\"1\" class=\"dataframe\">\n",
       "  <thead>\n",
       "    <tr style=\"text-align: right;\">\n",
       "      <th></th>\n",
       "      <th>id</th>\n",
       "      <th>score</th>\n",
       "      <th>date</th>\n",
       "    </tr>\n",
       "  </thead>\n",
       "  <tbody>\n",
       "    <tr>\n",
       "      <th>0</th>\n",
       "      <td>19</td>\n",
       "      <td>94</td>\n",
       "      <td>20160513</td>\n",
       "    </tr>\n",
       "    <tr>\n",
       "      <th>1</th>\n",
       "      <td>19</td>\n",
       "      <td>94</td>\n",
       "      <td>20171211</td>\n",
       "    </tr>\n",
       "    <tr>\n",
       "      <th>2</th>\n",
       "      <td>24</td>\n",
       "      <td>98</td>\n",
       "      <td>20171101</td>\n",
       "    </tr>\n",
       "    <tr>\n",
       "      <th>3</th>\n",
       "      <td>24</td>\n",
       "      <td>98</td>\n",
       "      <td>20161005</td>\n",
       "    </tr>\n",
       "    <tr>\n",
       "      <th>4</th>\n",
       "      <td>24</td>\n",
       "      <td>96</td>\n",
       "      <td>20160311</td>\n",
       "    </tr>\n",
       "  </tbody>\n",
       "</table>\n",
       "</div>"
      ],
      "text/plain": [
       "   id  score      date\n",
       "0  19     94  20160513\n",
       "1  19     94  20171211\n",
       "2  24     98  20171101\n",
       "3  24     98  20161005\n",
       "4  24     96  20160311"
      ]
     },
     "execution_count": 28,
     "metadata": {},
     "output_type": "execute_result"
    }
   ],
   "source": [
    "#read in the scores\n",
    "ins = pd.read_csv('inspections.csv',\n",
    "                  header=0,\n",
    "                  usecols=[0, 1, 2],\n",
    "                  names=['id', 'score', 'date'])\n",
    "ins.head()"
   ]
  },
  {
   "cell_type": "code",
   "execution_count": 48,
   "metadata": {},
   "outputs": [
    {
     "data": {
      "text/html": [
       "<div>\n",
       "<table border=\"1\" class=\"dataframe\">\n",
       "  <thead>\n",
       "    <tr style=\"text-align: right;\">\n",
       "      <th></th>\n",
       "      <th>id</th>\n",
       "      <th>date</th>\n",
       "      <th>feature</th>\n",
       "      <th>num_vios</th>\n",
       "      <th>score</th>\n",
       "    </tr>\n",
       "  </thead>\n",
       "  <tbody>\n",
       "    <tr>\n",
       "      <th>0</th>\n",
       "      <td>19</td>\n",
       "      <td>20160513</td>\n",
       "      <td>is_clean</td>\n",
       "      <td>1.0</td>\n",
       "      <td>94</td>\n",
       "    </tr>\n",
       "    <tr>\n",
       "      <th>1</th>\n",
       "      <td>19</td>\n",
       "      <td>20160513</td>\n",
       "      <td>is_high_risk</td>\n",
       "      <td>0.0</td>\n",
       "      <td>94</td>\n",
       "    </tr>\n",
       "    <tr>\n",
       "      <th>2</th>\n",
       "      <td>19</td>\n",
       "      <td>20160513</td>\n",
       "      <td>is_vermin</td>\n",
       "      <td>0.0</td>\n",
       "      <td>94</td>\n",
       "    </tr>\n",
       "    <tr>\n",
       "      <th>3</th>\n",
       "      <td>19</td>\n",
       "      <td>20160513</td>\n",
       "      <td>is_surface</td>\n",
       "      <td>1.0</td>\n",
       "      <td>94</td>\n",
       "    </tr>\n",
       "    <tr>\n",
       "      <th>4</th>\n",
       "      <td>19</td>\n",
       "      <td>20160513</td>\n",
       "      <td>is_human</td>\n",
       "      <td>1.0</td>\n",
       "      <td>94</td>\n",
       "    </tr>\n",
       "    <tr>\n",
       "      <th>5</th>\n",
       "      <td>19</td>\n",
       "      <td>20160513</td>\n",
       "      <td>is_permit</td>\n",
       "      <td>1.0</td>\n",
       "      <td>94</td>\n",
       "    </tr>\n",
       "    <tr>\n",
       "      <th>6</th>\n",
       "      <td>19</td>\n",
       "      <td>20171211</td>\n",
       "      <td>is_clean</td>\n",
       "      <td>0.0</td>\n",
       "      <td>94</td>\n",
       "    </tr>\n",
       "    <tr>\n",
       "      <th>7</th>\n",
       "      <td>19</td>\n",
       "      <td>20171211</td>\n",
       "      <td>is_high_risk</td>\n",
       "      <td>0.0</td>\n",
       "      <td>94</td>\n",
       "    </tr>\n",
       "    <tr>\n",
       "      <th>8</th>\n",
       "      <td>19</td>\n",
       "      <td>20171211</td>\n",
       "      <td>is_vermin</td>\n",
       "      <td>0.0</td>\n",
       "      <td>94</td>\n",
       "    </tr>\n",
       "    <tr>\n",
       "      <th>9</th>\n",
       "      <td>19</td>\n",
       "      <td>20171211</td>\n",
       "      <td>is_surface</td>\n",
       "      <td>0.0</td>\n",
       "      <td>94</td>\n",
       "    </tr>\n",
       "    <tr>\n",
       "      <th>10</th>\n",
       "      <td>19</td>\n",
       "      <td>20171211</td>\n",
       "      <td>is_human</td>\n",
       "      <td>0.0</td>\n",
       "      <td>94</td>\n",
       "    </tr>\n",
       "    <tr>\n",
       "      <th>11</th>\n",
       "      <td>19</td>\n",
       "      <td>20171211</td>\n",
       "      <td>is_permit</td>\n",
       "      <td>1.0</td>\n",
       "      <td>94</td>\n",
       "    </tr>\n",
       "  </tbody>\n",
       "</table>\n",
       "</div>"
      ],
      "text/plain": [
       "    id      date       feature  num_vios  score\n",
       "0   19  20160513      is_clean       1.0     94\n",
       "1   19  20160513  is_high_risk       0.0     94\n",
       "2   19  20160513     is_vermin       0.0     94\n",
       "3   19  20160513    is_surface       1.0     94\n",
       "4   19  20160513      is_human       1.0     94\n",
       "5   19  20160513     is_permit       1.0     94\n",
       "6   19  20171211      is_clean       0.0     94\n",
       "7   19  20171211  is_high_risk       0.0     94\n",
       "8   19  20171211     is_vermin       0.0     94\n",
       "9   19  20171211    is_surface       0.0     94\n",
       "10  19  20171211      is_human       0.0     94\n",
       "11  19  20171211     is_permit       1.0     94"
      ]
     },
     "execution_count": 48,
     "metadata": {},
     "output_type": "execute_result"
    }
   ],
   "source": [
    "#join scores with the table broken down by violation type\n",
    "violation_type_and_scores = (\n",
    "    broken_down_by_violation_type\n",
    "    .merge(ins, left_on=['id', 'date'], right_on=['id', 'date'])\n",
    ")\n",
    "violation_type_and_scores.head(12)"
   ]
  },
  {
   "cell_type": "code",
   "execution_count": 49,
   "metadata": {},
   "outputs": [
    {
     "data": {
      "text/plain": [
       "<seaborn.axisgrid.FacetGrid at 0x7f9899fa0470>"
      ]
     },
     "execution_count": 49,
     "metadata": {},
     "output_type": "execute_result"
    },
    {
     "data": {
      "image/png": "[encoded data removed]",
      "text/plain": [
       "<Figure size 720x1080 with 6 Axes>"
      ]
     },
     "metadata": {},
     "output_type": "display_data"
    }
   ],
   "source": [
    "sns.catplot(x='num_vios', y='score',\n",
    "               col='feature', col_wrap=2,\n",
    "               kind='box',\n",
    "               data=violation_type_and_scores)"
   ]
  },
  {
   "cell_type": "markdown",
   "metadata": {},
   "source": [
    "Above we see, for example, that if a restaurant inspection involved 2 violation with the keyword \"vermin\", the average score for that inspection would be a little bit below 80."
   ]
  },
  {
   "cell_type": "markdown",
   "metadata": {},
   "source": [
    "## Text Processing Example 2: Police Data\n",
    "\n",
    "In this example, we will apply string processing to the process of data cleaning and exploratory data analysis."
   ]
  },
  {
   "cell_type": "markdown",
   "metadata": {},
   "source": [
    "### Getting the Data\n",
    "\n",
    "The city of Berkeley maintains an [Open Data Portal](https://data.cityofberkeley.info/) for citizens to access data about the city.  We will be examining [Call Data](https://data.cityofberkeley.info/Public-Safety/Berkeley-PD-Calls-for-Service/k2nh-s5h5).\n",
    "\n",
    "<img src=\"calls_desc.png\" width=800px />\n",
    "\n"
   ]
  },
  {
   "cell_type": "code",
   "execution_count": 31,
   "metadata": {
    "ExecuteTime": {
     "end_time": "2018-02-02T15:15:19.115040Z",
     "start_time": "2018-02-02T15:15:19.070620Z"
    }
   },
   "outputs": [
    {
     "name": "stdout",
     "output_type": "stream",
     "text": [
      "Using cached version that was downloaded (UTC): Thu Sep 26 07:16:14 2019\n"
     ]
    },
    {
     "data": {
      "text/html": [
       "<div>\n",
       "<table border=\"1\" class=\"dataframe\">\n",
       "  <thead>\n",
       "    <tr style=\"text-align: right;\">\n",
       "      <th></th>\n",
       "      <th>CASENO</th>\n",
       "      <th>OFFENSE</th>\n",
       "      <th>EVENTDT</th>\n",
       "      <th>EVENTTM</th>\n",
       "      <th>CVLEGEND</th>\n",
       "      <th>CVDOW</th>\n",
       "      <th>InDbDate</th>\n",
       "      <th>Block_Location</th>\n",
       "      <th>BLKADDR</th>\n",
       "      <th>City</th>\n",
       "      <th>State</th>\n",
       "    </tr>\n",
       "  </thead>\n",
       "  <tbody>\n",
       "    <tr>\n",
       "      <th>0</th>\n",
       "      <td>19016777</td>\n",
       "      <td>DISTURBANCE</td>\n",
       "      <td>03/29/2019 12:00:00 AM</td>\n",
       "      <td>17:29</td>\n",
       "      <td>DISORDERLY CONDUCT</td>\n",
       "      <td>5</td>\n",
       "      <td>09/26/2019 07:00:06 AM</td>\n",
       "      <td>GRAYSON STREET &amp; 7TH ST\\nBerkeley, CA\\n(37.855...</td>\n",
       "      <td>GRAYSON STREET &amp; 7TH ST</td>\n",
       "      <td>Berkeley</td>\n",
       "      <td>CA</td>\n",
       "    </tr>\n",
       "    <tr>\n",
       "      <th>1</th>\n",
       "      <td>19016819</td>\n",
       "      <td>THEFT MISD. (UNDER $950)</td>\n",
       "      <td>03/29/2019 12:00:00 AM</td>\n",
       "      <td>15:30</td>\n",
       "      <td>LARCENY</td>\n",
       "      <td>5</td>\n",
       "      <td>09/26/2019 07:00:06 AM</td>\n",
       "      <td>1700 FOURTH ST\\nBerkeley, CA\\n(37.871883, -122...</td>\n",
       "      <td>1700 FOURTH ST</td>\n",
       "      <td>Berkeley</td>\n",
       "      <td>CA</td>\n",
       "    </tr>\n",
       "    <tr>\n",
       "      <th>2</th>\n",
       "      <td>19016748</td>\n",
       "      <td>DISTURBANCE</td>\n",
       "      <td>03/29/2019 12:00:00 AM</td>\n",
       "      <td>15:24</td>\n",
       "      <td>DISORDERLY CONDUCT</td>\n",
       "      <td>5</td>\n",
       "      <td>09/26/2019 07:00:06 AM</td>\n",
       "      <td>1800 EUCLID AV\\nBerkeley, CA\\n(37.876045, -122...</td>\n",
       "      <td>1800 EUCLID AV</td>\n",
       "      <td>Berkeley</td>\n",
       "      <td>CA</td>\n",
       "    </tr>\n",
       "    <tr>\n",
       "      <th>3</th>\n",
       "      <td>19016673</td>\n",
       "      <td>DISTURBANCE</td>\n",
       "      <td>03/29/2019 12:00:00 AM</td>\n",
       "      <td>10:20</td>\n",
       "      <td>DISORDERLY CONDUCT</td>\n",
       "      <td>5</td>\n",
       "      <td>09/26/2019 07:00:06 AM</td>\n",
       "      <td>2700 MARTIN LUTHER KING JR WY\\nBerkeley, CA\\n(...</td>\n",
       "      <td>2700 MARTIN LUTHER KING JR WY</td>\n",
       "      <td>Berkeley</td>\n",
       "      <td>CA</td>\n",
       "    </tr>\n",
       "    <tr>\n",
       "      <th>4</th>\n",
       "      <td>19016694</td>\n",
       "      <td>GUN/WEAPON</td>\n",
       "      <td>03/29/2019 12:00:00 AM</td>\n",
       "      <td>11:00</td>\n",
       "      <td>WEAPONS OFFENSE</td>\n",
       "      <td>5</td>\n",
       "      <td>09/26/2019 07:00:06 AM</td>\n",
       "      <td>2200 MILVIA ST\\nBerkeley, CA\\n(37.868574, -122...</td>\n",
       "      <td>2200 MILVIA ST</td>\n",
       "      <td>Berkeley</td>\n",
       "      <td>CA</td>\n",
       "    </tr>\n",
       "  </tbody>\n",
       "</table>\n",
       "</div>"
      ],
      "text/plain": [
       "     CASENO                   OFFENSE                 EVENTDT EVENTTM  \\\n",
       "0  19016777               DISTURBANCE  03/29/2019 12:00:00 AM   17:29   \n",
       "1  19016819  THEFT MISD. (UNDER $950)  03/29/2019 12:00:00 AM   15:30   \n",
       "2  19016748               DISTURBANCE  03/29/2019 12:00:00 AM   15:24   \n",
       "3  19016673               DISTURBANCE  03/29/2019 12:00:00 AM   10:20   \n",
       "4  19016694                GUN/WEAPON  03/29/2019 12:00:00 AM   11:00   \n",
       "\n",
       "             CVLEGEND  CVDOW                InDbDate  \\\n",
       "0  DISORDERLY CONDUCT      5  09/26/2019 07:00:06 AM   \n",
       "1             LARCENY      5  09/26/2019 07:00:06 AM   \n",
       "2  DISORDERLY CONDUCT      5  09/26/2019 07:00:06 AM   \n",
       "3  DISORDERLY CONDUCT      5  09/26/2019 07:00:06 AM   \n",
       "4     WEAPONS OFFENSE      5  09/26/2019 07:00:06 AM   \n",
       "\n",
       "                                      Block_Location  \\\n",
       "0  GRAYSON STREET & 7TH ST\\nBerkeley, CA\\n(37.855...   \n",
       "1  1700 FOURTH ST\\nBerkeley, CA\\n(37.871883, -122...   \n",
       "2  1800 EUCLID AV\\nBerkeley, CA\\n(37.876045, -122...   \n",
       "3  2700 MARTIN LUTHER KING JR WY\\nBerkeley, CA\\n(...   \n",
       "4  2200 MILVIA ST\\nBerkeley, CA\\n(37.868574, -122...   \n",
       "\n",
       "                         BLKADDR      City State  \n",
       "0        GRAYSON STREET & 7TH ST  Berkeley    CA  \n",
       "1                 1700 FOURTH ST  Berkeley    CA  \n",
       "2                 1800 EUCLID AV  Berkeley    CA  \n",
       "3  2700 MARTIN LUTHER KING JR WY  Berkeley    CA  \n",
       "4                 2200 MILVIA ST  Berkeley    CA  "
      ]
     },
     "execution_count": 31,
     "metadata": {},
     "output_type": "execute_result"
    }
   ],
   "source": [
    "import ds100_utils\n",
    "\n",
    "calls_url = 'https://data.cityofberkeley.info/api/views/k2nh-s5h5/rows.csv?accessType=DOWNLOAD'\n",
    "calls_file = ds100_utils.fetch_and_cache(calls_url, 'calls.csv')\n",
    "calls = pd.read_csv(calls_file, warn_bad_lines=True)\n",
    "calls.head()"
   ]
  },
  {
   "cell_type": "markdown",
   "metadata": {},
   "source": [
    "How many records did we get?"
   ]
  },
  {
   "cell_type": "code",
   "execution_count": 32,
   "metadata": {
    "ExecuteTime": {
     "end_time": "2018-02-02T15:15:19.122345Z",
     "start_time": "2018-02-02T15:15:19.118071Z"
    }
   },
   "outputs": [
    {
     "data": {
      "text/plain": [
       "4748"
      ]
     },
     "execution_count": 32,
     "metadata": {},
     "output_type": "execute_result"
    }
   ],
   "source": [
    "len(calls)"
   ]
  },
  {
   "cell_type": "markdown",
   "metadata": {},
   "source": [
    "What does an example `Block_Location` value look like?"
   ]
  },
  {
   "cell_type": "code",
   "execution_count": 33,
   "metadata": {},
   "outputs": [
    {
     "name": "stdout",
     "output_type": "stream",
     "text": [
      "GRAYSON STREET & 7TH ST\n",
      "Berkeley, CA\n",
      "(37.855294, -122.292475)\n"
     ]
    }
   ],
   "source": [
    "print(calls['Block_Location'].iloc[0])"
   ]
  },
  {
   "cell_type": "markdown",
   "metadata": {
    "solution2": "hidden",
    "solution2_first": true
   },
   "source": [
    "### Preliminary observations on the data?"
   ]
  },
  {
   "cell_type": "markdown",
   "metadata": {
    "solution2": "hidden"
   },
   "source": [
    "1. `EVENTDT` -- Contains the incorrect time\n",
    "1. `EVENTTM` -- Contains the time in 24 hour format (What timezone?)\n",
    "1. `CVDOW` -- Encodes the day of the week (see data documentation).\n",
    "1. `InDbDate` -- Appears to be correctly formatted and appears pretty consistent in time.\n",
    "1. **`Block_Location` -- a multi-line string that contains coordinates.**\n",
    "1. `BLKADDR` -- Appears to be the address in `Block Location`.\n",
    "1. `City` and `State` seem redundant given this is supposed to be the city of Berkeley dataset."
   ]
  },
  {
   "cell_type": "markdown",
   "metadata": {},
   "source": [
    "### Extracting locations\n",
    "\n",
    "The block location contains geographic coordinates. Let's extract them."
   ]
  },
  {
   "cell_type": "code",
   "execution_count": 34,
   "metadata": {
    "ExecuteTime": {
     "end_time": "2018-02-02T15:15:19.230720Z",
     "start_time": "2018-02-02T15:15:19.225971Z"
    }
   },
   "outputs": [
    {
     "data": {
      "text/plain": [
       "'GRAYSON STREET & 7TH ST\\nBerkeley, CA\\n(37.855294, -122.292475)'"
      ]
     },
     "execution_count": 34,
     "metadata": {},
     "output_type": "execute_result"
    }
   ],
   "source": [
    "calls['Block_Location'][0]"
   ]
  },
  {
   "cell_type": "code",
   "execution_count": 35,
   "metadata": {
    "ExecuteTime": {
     "end_time": "2018-02-02T15:15:19.268222Z",
     "start_time": "2018-02-02T15:15:19.233193Z"
    }
   },
   "outputs": [
    {
     "name": "stderr",
     "output_type": "stream",
     "text": [
      "/home/hug/miniconda2/envs/data100/lib/python3.6/site-packages/ipykernel_launcher.py:3: FutureWarning: currently extract(expand=None) means expand=False (return Index/Series/DataFrame) but in a future version of pandas this will be changed to expand=True (return DataFrame)\n",
      "  This is separate from the ipykernel package so we can avoid doing imports until\n"
     ]
    },
    {
     "data": {
      "text/html": [
       "<div>\n",
       "<table border=\"1\" class=\"dataframe\">\n",
       "  <thead>\n",
       "    <tr style=\"text-align: right;\">\n",
       "      <th></th>\n",
       "      <th>Lat</th>\n",
       "      <th>Lon</th>\n",
       "    </tr>\n",
       "  </thead>\n",
       "  <tbody>\n",
       "    <tr>\n",
       "      <th>0</th>\n",
       "      <td>37.855294</td>\n",
       "      <td>-122.292475</td>\n",
       "    </tr>\n",
       "    <tr>\n",
       "      <th>1</th>\n",
       "      <td>37.871883</td>\n",
       "      <td>-122.301255</td>\n",
       "    </tr>\n",
       "    <tr>\n",
       "      <th>2</th>\n",
       "      <td>37.876045</td>\n",
       "      <td>-122.260336</td>\n",
       "    </tr>\n",
       "    <tr>\n",
       "      <th>3</th>\n",
       "      <td>37.859665</td>\n",
       "      <td>-122.27169</td>\n",
       "    </tr>\n",
       "    <tr>\n",
       "      <th>4</th>\n",
       "      <td>37.868574</td>\n",
       "      <td>-122.270415</td>\n",
       "    </tr>\n",
       "    <tr>\n",
       "      <th>5</th>\n",
       "      <td>37.871461</td>\n",
       "      <td>-122.270706</td>\n",
       "    </tr>\n",
       "    <tr>\n",
       "      <th>6</th>\n",
       "      <td>37.882985</td>\n",
       "      <td>-122.261615</td>\n",
       "    </tr>\n",
       "    <tr>\n",
       "      <th>7</th>\n",
       "      <td>37.871171</td>\n",
       "      <td>-122.267718</td>\n",
       "    </tr>\n",
       "    <tr>\n",
       "      <th>8</th>\n",
       "      <td>37.871246</td>\n",
       "      <td>-122.274991</td>\n",
       "    </tr>\n",
       "    <tr>\n",
       "      <th>9</th>\n",
       "      <td>37.872691</td>\n",
       "      <td>-122.270741</td>\n",
       "    </tr>\n",
       "  </tbody>\n",
       "</table>\n",
       "</div>"
      ],
      "text/plain": [
       "         Lat          Lon\n",
       "0  37.855294  -122.292475\n",
       "1  37.871883  -122.301255\n",
       "2  37.876045  -122.260336\n",
       "3  37.859665   -122.27169\n",
       "4  37.868574  -122.270415\n",
       "5  37.871461  -122.270706\n",
       "6  37.882985  -122.261615\n",
       "7  37.871171  -122.267718\n",
       "8  37.871246  -122.274991\n",
       "9  37.872691  -122.270741"
      ]
     },
     "execution_count": 35,
     "metadata": {},
     "output_type": "execute_result"
    }
   ],
   "source": [
    "calls_lat_lon = (\n",
    "    calls['Block_Location']\n",
    "    .str.extract(\"\\((\\d+\\.\\d+)\\, (-\\d+\\.\\d+)\\)\")\n",
    ")\n",
    "calls_lat_lon.columns = ['Lat', 'Lon']\n",
    "calls_lat_lon.head(10)"
   ]
  },
  {
   "cell_type": "markdown",
   "metadata": {},
   "source": [
    "How many records have missing values?"
   ]
  },
  {
   "cell_type": "code",
   "execution_count": 36,
   "metadata": {
    "ExecuteTime": {
     "end_time": "2018-02-02T15:15:19.280471Z",
     "start_time": "2018-02-02T15:15:19.271307Z"
    }
   },
   "outputs": [
    {
     "data": {
      "text/plain": [
       "Lat    158\n",
       "Lon    158\n",
       "dtype: int64"
      ]
     },
     "execution_count": 36,
     "metadata": {},
     "output_type": "execute_result"
    }
   ],
   "source": [
    "calls_lat_lon.isnull().sum()"
   ]
  },
  {
   "cell_type": "markdown",
   "metadata": {},
   "source": [
    "Examine the missing values."
   ]
  },
  {
   "cell_type": "code",
   "execution_count": 37,
   "metadata": {},
   "outputs": [
    {
     "data": {
      "text/plain": [
       "17                  800 TAMALPAIS RD\\nBerkeley, CA\n",
       "18        STANFORD AV & SAN PABLO AV\\nBerkeley, CA\n",
       "28      SAN PABLO AVENUE &PERALTA ST\\nBerkeley, CA\n",
       "30     UNIVERSITY AVENUE &I80 EB HWY\\nBerkeley, CA\n",
       "82                             0 UNK\\nBerkeley, CA\n",
       "92         SOLANO AVENUE &COLUSA AVE\\nBerkeley, CA\n",
       "99                        900 4TH ST\\nBerkeley, CA\n",
       "110       SHATTUCK AVENUE &CENTER ST\\nBerkeley, CA\n",
       "125            SAN PABLO AVE/ADDISON\\nBerkeley, CA\n",
       "227                   800 BOLIVAR DR\\nBerkeley, CA\n",
       "Name: Block_Location, dtype: object"
      ]
     },
     "execution_count": 37,
     "metadata": {},
     "output_type": "execute_result"
    }
   ],
   "source": [
    "calls[calls_lat_lon.isnull().any(axis=1)]['Block_Location'].head(10)"
   ]
  },
  {
   "cell_type": "markdown",
   "metadata": {},
   "source": [
    "Join in the extracted values."
   ]
  },
  {
   "cell_type": "code",
   "execution_count": 38,
   "metadata": {
    "ExecuteTime": {
     "end_time": "2018-02-02T15:15:19.328544Z",
     "start_time": "2018-02-02T15:15:19.287625Z"
    },
    "scrolled": true
   },
   "outputs": [
    {
     "data": {
      "text/html": [
       "<div>\n",
       "<table border=\"1\" class=\"dataframe\">\n",
       "  <thead>\n",
       "    <tr style=\"text-align: right;\">\n",
       "      <th></th>\n",
       "      <th>CASENO</th>\n",
       "      <th>OFFENSE</th>\n",
       "      <th>EVENTDT</th>\n",
       "      <th>EVENTTM</th>\n",
       "      <th>CVLEGEND</th>\n",
       "      <th>CVDOW</th>\n",
       "      <th>InDbDate</th>\n",
       "      <th>Block_Location</th>\n",
       "      <th>BLKADDR</th>\n",
       "      <th>City</th>\n",
       "      <th>State</th>\n",
       "      <th>Lat</th>\n",
       "      <th>Lon</th>\n",
       "    </tr>\n",
       "  </thead>\n",
       "  <tbody>\n",
       "    <tr>\n",
       "      <th>0</th>\n",
       "      <td>19016777</td>\n",
       "      <td>DISTURBANCE</td>\n",
       "      <td>03/29/2019 12:00:00 AM</td>\n",
       "      <td>17:29</td>\n",
       "      <td>DISORDERLY CONDUCT</td>\n",
       "      <td>5</td>\n",
       "      <td>09/26/2019 07:00:06 AM</td>\n",
       "      <td>GRAYSON STREET &amp; 7TH ST\\nBerkeley, CA\\n(37.855...</td>\n",
       "      <td>GRAYSON STREET &amp; 7TH ST</td>\n",
       "      <td>Berkeley</td>\n",
       "      <td>CA</td>\n",
       "      <td>37.855294</td>\n",
       "      <td>-122.292475</td>\n",
       "    </tr>\n",
       "    <tr>\n",
       "      <th>1</th>\n",
       "      <td>19016819</td>\n",
       "      <td>THEFT MISD. (UNDER $950)</td>\n",
       "      <td>03/29/2019 12:00:00 AM</td>\n",
       "      <td>15:30</td>\n",
       "      <td>LARCENY</td>\n",
       "      <td>5</td>\n",
       "      <td>09/26/2019 07:00:06 AM</td>\n",
       "      <td>1700 FOURTH ST\\nBerkeley, CA\\n(37.871883, -122...</td>\n",
       "      <td>1700 FOURTH ST</td>\n",
       "      <td>Berkeley</td>\n",
       "      <td>CA</td>\n",
       "      <td>37.871883</td>\n",
       "      <td>-122.301255</td>\n",
       "    </tr>\n",
       "    <tr>\n",
       "      <th>2</th>\n",
       "      <td>19016748</td>\n",
       "      <td>DISTURBANCE</td>\n",
       "      <td>03/29/2019 12:00:00 AM</td>\n",
       "      <td>15:24</td>\n",
       "      <td>DISORDERLY CONDUCT</td>\n",
       "      <td>5</td>\n",
       "      <td>09/26/2019 07:00:06 AM</td>\n",
       "      <td>1800 EUCLID AV\\nBerkeley, CA\\n(37.876045, -122...</td>\n",
       "      <td>1800 EUCLID AV</td>\n",
       "      <td>Berkeley</td>\n",
       "      <td>CA</td>\n",
       "      <td>37.876045</td>\n",
       "      <td>-122.260336</td>\n",
       "    </tr>\n",
       "    <tr>\n",
       "      <th>3</th>\n",
       "      <td>19016673</td>\n",
       "      <td>DISTURBANCE</td>\n",
       "      <td>03/29/2019 12:00:00 AM</td>\n",
       "      <td>10:20</td>\n",
       "      <td>DISORDERLY CONDUCT</td>\n",
       "      <td>5</td>\n",
       "      <td>09/26/2019 07:00:06 AM</td>\n",
       "      <td>2700 MARTIN LUTHER KING JR WY\\nBerkeley, CA\\n(...</td>\n",
       "      <td>2700 MARTIN LUTHER KING JR WY</td>\n",
       "      <td>Berkeley</td>\n",
       "      <td>CA</td>\n",
       "      <td>37.859665</td>\n",
       "      <td>-122.27169</td>\n",
       "    </tr>\n",
       "    <tr>\n",
       "      <th>4</th>\n",
       "      <td>19016694</td>\n",
       "      <td>GUN/WEAPON</td>\n",
       "      <td>03/29/2019 12:00:00 AM</td>\n",
       "      <td>11:00</td>\n",
       "      <td>WEAPONS OFFENSE</td>\n",
       "      <td>5</td>\n",
       "      <td>09/26/2019 07:00:06 AM</td>\n",
       "      <td>2200 MILVIA ST\\nBerkeley, CA\\n(37.868574, -122...</td>\n",
       "      <td>2200 MILVIA ST</td>\n",
       "      <td>Berkeley</td>\n",
       "      <td>CA</td>\n",
       "      <td>37.868574</td>\n",
       "      <td>-122.270415</td>\n",
       "    </tr>\n",
       "  </tbody>\n",
       "</table>\n",
       "</div>"
      ],
      "text/plain": [
       "     CASENO                   OFFENSE                 EVENTDT EVENTTM  \\\n",
       "0  19016777               DISTURBANCE  03/29/2019 12:00:00 AM   17:29   \n",
       "1  19016819  THEFT MISD. (UNDER $950)  03/29/2019 12:00:00 AM   15:30   \n",
       "2  19016748               DISTURBANCE  03/29/2019 12:00:00 AM   15:24   \n",
       "3  19016673               DISTURBANCE  03/29/2019 12:00:00 AM   10:20   \n",
       "4  19016694                GUN/WEAPON  03/29/2019 12:00:00 AM   11:00   \n",
       "\n",
       "             CVLEGEND  CVDOW                InDbDate  \\\n",
       "0  DISORDERLY CONDUCT      5  09/26/2019 07:00:06 AM   \n",
       "1             LARCENY      5  09/26/2019 07:00:06 AM   \n",
       "2  DISORDERLY CONDUCT      5  09/26/2019 07:00:06 AM   \n",
       "3  DISORDERLY CONDUCT      5  09/26/2019 07:00:06 AM   \n",
       "4     WEAPONS OFFENSE      5  09/26/2019 07:00:06 AM   \n",
       "\n",
       "                                      Block_Location  \\\n",
       "0  GRAYSON STREET & 7TH ST\\nBerkeley, CA\\n(37.855...   \n",
       "1  1700 FOURTH ST\\nBerkeley, CA\\n(37.871883, -122...   \n",
       "2  1800 EUCLID AV\\nBerkeley, CA\\n(37.876045, -122...   \n",
       "3  2700 MARTIN LUTHER KING JR WY\\nBerkeley, CA\\n(...   \n",
       "4  2200 MILVIA ST\\nBerkeley, CA\\n(37.868574, -122...   \n",
       "\n",
       "                         BLKADDR      City State        Lat          Lon  \n",
       "0        GRAYSON STREET & 7TH ST  Berkeley    CA  37.855294  -122.292475  \n",
       "1                 1700 FOURTH ST  Berkeley    CA  37.871883  -122.301255  \n",
       "2                 1800 EUCLID AV  Berkeley    CA  37.876045  -122.260336  \n",
       "3  2700 MARTIN LUTHER KING JR WY  Berkeley    CA  37.859665   -122.27169  \n",
       "4                 2200 MILVIA ST  Berkeley    CA  37.868574  -122.270415  "
      ]
     },
     "execution_count": 38,
     "metadata": {},
     "output_type": "execute_result"
    }
   ],
   "source": [
    "calls['Lat'] = calls_lat_lon['Lat']\n",
    "calls['Lon'] = calls_lat_lon['Lon']\n",
    "calls.head()"
   ]
  },
  {
   "cell_type": "markdown",
   "metadata": {},
   "source": [
    "## Examining Location information\n",
    "\n",
    "Let's examine the geographic data (latitude and longitude).  Recall that we had some missing values.  Let's look at the behavior of these missing values according to crime type."
   ]
  },
  {
   "cell_type": "code",
   "execution_count": 39,
   "metadata": {
    "ExecuteTime": {
     "end_time": "2018-02-02T15:15:34.130428Z",
     "start_time": "2018-02-02T15:15:32.851717Z"
    }
   },
   "outputs": [
    {
     "data": {
      "image/png": "[encoded data removed]",
      "text/plain": [
       "<Figure size 432x288 with 1 Axes>"
      ]
     },
     "metadata": {},
     "output_type": "display_data"
    }
   ],
   "source": [
    "missing_lat_lon = calls[calls[['Lat', 'Lon']].isnull().any(axis=1)]\n",
    "missing_lat_lon['CVLEGEND'].value_counts().plot(kind='barh');"
   ]
  },
  {
   "cell_type": "code",
   "execution_count": 40,
   "metadata": {},
   "outputs": [
    {
     "data": {
      "image/png": "[encoded data removed]",
      "text/plain": [
       "<Figure size 432x288 with 1 Axes>"
      ]
     },
     "metadata": {},
     "output_type": "display_data"
    }
   ],
   "source": [
    "calls['CVLEGEND'].value_counts().plot(kind='barh');"
   ]
  },
  {
   "cell_type": "markdown",
   "metadata": {},
   "source": [
    "We might further normalize the analysis by the frequency to find which type of crime has the highest proportion of missing values."
   ]
  },
  {
   "cell_type": "code",
   "execution_count": 41,
   "metadata": {
    "ExecuteTime": {
     "end_time": "2018-02-02T15:15:35.358758Z",
     "start_time": "2018-02-02T15:15:34.132788Z"
    }
   },
   "outputs": [
    {
     "data": {
      "image/png": "[encoded data removed]",
      "text/plain": [
       "<Figure size 432x288 with 1 Axes>"
      ]
     },
     "metadata": {},
     "output_type": "display_data"
    }
   ],
   "source": [
    "(missing_lat_lon['CVLEGEND'].value_counts() \n",
    " / calls['CVLEGEND'].value_counts()\n",
    ").sort_values(ascending=False).plot(kind=\"barh\");"
   ]
  },
  {
   "cell_type": "markdown",
   "metadata": {},
   "source": [
    "Now, let's make a crime map."
   ]
  },
  {
   "cell_type": "code",
   "execution_count": 42,
   "metadata": {},
   "outputs": [],
   "source": [
    "# you may need to install the folium package for this to work\n",
    "# to do this, uncomment the line below and run it, this might take \n",
    "# more than 5 minutes. It'll probably say \"solving environment: \" for\n",
    "# a long time.\n",
    "#!conda --debug install -y -c conda-forge folium "
   ]
  },
  {
   "cell_type": "code",
   "execution_count": 43,
   "metadata": {},
   "outputs": [
    {
     "data": {
      "text/html": [
       "<div style=\"width:100%;\"><div style=\"position:relative;width:100%;height:0;padding-bottom:60%;\"><iframe src=\"data:text/html;charset=utf-8;base64,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\" style=\"position:absolute;width:100%;height:100%;left:0;top:0;border:none !important;\" allowfullscreen webkitallowfullscreen mozallowfullscreen></iframe></div></div>"
      ],
      "text/plain": [
       "<folium.folium.Map at 0x7f98cce68fd0>"
      ]
     },
     "execution_count": 43,
     "metadata": {},
     "output_type": "execute_result"
    }
   ],
   "source": [
    "import folium\n",
    "import folium.plugins\n",
    "\n",
    "SF_COORDINATES = (37.87, -122.28)\n",
    "sf_map = folium.Map(location=SF_COORDINATES, zoom_start=13)\n",
    "locs = calls[['Lat', 'Lon']].astype('float').dropna().values\n",
    "heatmap = folium.plugins.HeatMap(locs.tolist(), radius=10)\n",
    "sf_map.add_child(heatmap)"
   ]
  },
  {
   "cell_type": "markdown",
   "metadata": {},
   "source": [
    "### Questions\n",
    "\n",
    "1. Is campus really the safest place to be?\n",
    "1. Why are all the calls located on the street and at often at intersections?\n"
   ]
  },
  {
   "cell_type": "code",
   "execution_count": 44,
   "metadata": {
    "ExecuteTime": {
     "end_time": "2018-02-02T15:15:54.826669Z",
     "start_time": "2018-02-02T15:15:37.180513Z"
    },
    "scrolled": true
   },
   "outputs": [
    {
     "data": {
      "text/html": [
       "<div style=\"width:100%;\"><div style=\"position:relative;width:100%;height:0;padding-bottom:60%;\"><iframe src=\"data:text/html;charset=utf-8;base64,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\" style=\"position:absolute;width:100%;height:100%;left:0;top:0;border:none !important;\" allowfullscreen webkitallowfullscreen mozallowfullscreen></iframe></div></div>"
      ],
      "text/plain": [
       "<folium.folium.Map at 0x7f98cce68780>"
      ]
     },
     "execution_count": 44,
     "metadata": {},
     "output_type": "execute_result"
    }
   ],
   "source": [
    "import folium.plugins\n",
    "\n",
    "locations = calls[calls['CVLEGEND'] == 'ASSAULT'][['Lat', 'Lon']]\n",
    "\n",
    "cluster = folium.plugins.MarkerCluster()\n",
    "for _, r in locations.dropna().iterrows():\n",
    "    cluster.add_child(\n",
    "        folium.Marker([float(r[\"Lat\"]), float(r[\"Lon\"])]))\n",
    "    \n",
    "sf_map = folium.Map(location=SF_COORDINATES, zoom_start=13)\n",
    "sf_map.add_child(cluster)\n",
    "sf_map"
   ]
  },
  {
   "cell_type": "markdown",
   "metadata": {},
   "source": [
    "## Bonus Content: Using Strptime to Extract Time Information"
   ]
  },
  {
   "cell_type": "markdown",
   "metadata": {},
   "source": [
    "Date parsing using the `datetime` module."
   ]
  },
  {
   "cell_type": "code",
   "execution_count": 53,
   "metadata": {},
   "outputs": [
    {
     "name": "stderr",
     "output_type": "stream",
     "text": [
      "/home/hug/miniconda2/envs/data100/lib/python3.6/site-packages/ipykernel_launcher.py:1: FutureWarning: currently extract(expand=None) means expand=False (return Index/Series/DataFrame) but in a future version of pandas this will be changed to expand=True (return DataFrame)\n",
      "  \"\"\"Entry point for launching an IPython kernel.\n"
     ]
    },
    {
     "data": {
      "text/plain": [
       "0   2014-01-26 10:47:58\n",
       "1   2005-02-02 17:23:06\n",
       "2   2006-02-03 10:18:37\n",
       "dtype: datetime64[ns]"
      ]
     },
     "execution_count": 53,
     "metadata": {},
     "output_type": "execute_result"
    }
   ],
   "source": [
    "pd.Series(log_lines).str.extract(r'\\[(.*) -0800\\]').apply(\n",
    "    lambda s: datetime.strptime(s, '%d/%b/%Y:%H:%M:%S'))"
   ]
  }
 ],
 "metadata": {
  "kernelspec": {
   "display_name": "Python 3",
   "language": "python",
   "name": "python3"
  },
  "language_info": {
   "codemirror_mode": {
    "name": "ipython",
    "version": 3
   },
   "file_extension": ".py",
   "mimetype": "text/x-python",
   "name": "python",
   "nbconvert_exporter": "python",
   "pygments_lexer": "ipython3",
   "version": "3.6.7"
  }
 },
 "nbformat": 4,
 "nbformat_minor": 2
}
